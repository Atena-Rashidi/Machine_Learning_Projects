{
  "nbformat": 4,
  "nbformat_minor": 0,
  "metadata": {
    "colab": {
      "provenance": [],
      "collapsed_sections": []
    },
    "kernelspec": {
      "name": "python3",
      "display_name": "Python 3"
    },
    "language_info": {
      "name": "python"
    }
  },
  "cells": [
    {
      "cell_type": "code",
      "metadata": {
        "id": "phehyt43IrLE"
      },
      "source": [
        "import numpy as np\n",
        "import pandas as pd\n",
        "import matplotlib.pyplot as plt\n",
        "from sklearn.ensemble import GradientBoostingClassifier\n",
        "from sklearn.neighbors import KNeighborsClassifier\n",
        "from sklearn.svm import SVC\n",
        "from sklearn.ensemble import RandomForestClassifier\n",
        "from sklearn import tree\n",
        "from sklearn.model_selection import cross_val_score\n",
        "import seaborn as sns\n",
        "# For manupulating the data\n",
        "from sklearn.model_selection import train_test_split\n",
        "from sklearn.model_selection import KFold\n",
        "from sklearn.preprocessing import LabelEncoder\n",
        "# Models under the Sklearn\n",
        "from sklearn.neighbors import KNeighborsClassifier\n",
        "from sklearn.cluster import KMeans\n",
        "# to calculate the performances of the models \n",
        "from sklearn.metrics import confusion_matrix\n",
        "from sklearn.metrics import classification_report\n",
        "from sklearn.metrics import accuracy_score\n",
        "from sklearn.model_selection import cross_val_score # score evaluation\n",
        "from sklearn.model_selection import cross_val_predict # prediction\n",
        "from keras.models import Sequential\n",
        "from keras.layers import Dense\n",
        "from sklearn.neural_network import MLPClassifier\n",
        "from sklearn import preprocessing\n",
        "from sklearn.datasets import load_iris\n",
        "from sklearn.linear_model import LogisticRegression\n",
        "from sklearn.model_selection import RepeatedStratifiedKFold"
      ],
      "execution_count": null,
      "outputs": []
    },
    {
      "cell_type": "markdown",
      "source": [
        "**Dataset**\n",
        "\n",
        "This dataset contains occurrences of hepatitis in people. \n",
        "The dataset has been downloaded from  “hepatitis_csv dataset.” https://www.openml.org/d/55, and the code was programmed in Google Colab. "
      ],
      "metadata": {
        "id": "5H0rIqP-K5OH"
      }
    },
    {
      "cell_type": "markdown",
      "metadata": {
        "id": "avl0DdGSvFat"
      },
      "source": [
        "**2. Data Preparation: Dropping the rows with NaN**"
      ]
    },
    {
      "cell_type": "code",
      "metadata": {
        "id": "8z9hvlMQ14uJ"
      },
      "source": [
        "data = pd.read_csv(\"/content/hepatitis_csv.csv\")\n",
        "#data.head(20)"
      ],
      "execution_count": null,
      "outputs": []
    },
    {
      "cell_type": "code",
      "metadata": {
        "id": "3awlULf7Shar"
      },
      "source": [
        "# a list with all missing value formats\n",
        "missing_value_formats = [\"n.a.\",\"?\",\"NA\",\"n/a\", \"na\", \"--\", \"NaN\"]\n",
        "df = pd.read_csv(\"/content/hepatitis_csv.csv\", na_values = missing_value_formats)\n",
        "\n",
        "#print steroid again\n",
        "#print(df.head(30))\n",
        "#df"
      ],
      "execution_count": null,
      "outputs": []
    },
    {
      "cell_type": "code",
      "metadata": {
        "colab": {
          "base_uri": "https://localhost:8080/"
        },
        "id": "4JFH3iwT3BN_",
        "outputId": "5ef80bca-d448-4f3d-ee38-c3dd8ed0533e"
      },
      "source": [
        "print(data.isnull().sum())"
      ],
      "execution_count": null,
      "outputs": [
        {
          "output_type": "stream",
          "text": [
            "age                 0\n",
            "sex                 0\n",
            "steroid             1\n",
            "antivirals          0\n",
            "fatigue             1\n",
            "malaise             1\n",
            "anorexia            1\n",
            "liver_big          10\n",
            "liver_firm         11\n",
            "spleen_palpable     5\n",
            "spiders             5\n",
            "ascites             5\n",
            "varices             5\n",
            "bilirubin           6\n",
            "alk_phosphate      29\n",
            "sgot                4\n",
            "albumin            16\n",
            "protime            67\n",
            "histology           0\n",
            "class               0\n",
            "dtype: int64\n"
          ],
          "name": "stdout"
        }
      ]
    },
    {
      "cell_type": "code",
      "metadata": {
        "id": "6Jj-s7XitoSm"
      },
      "source": [
        "# Drops all rows with NaN values\n",
        "data.dropna(axis=0,inplace=True)\n",
        "#data.shape"
      ],
      "execution_count": null,
      "outputs": []
    },
    {
      "cell_type": "code",
      "metadata": {
        "id": "2zlqt5WPJegq"
      },
      "source": [
        "df = data.copy()\n",
        "# Data has ordinal attributes, The LabelEncoder has been used to make into numerical values  \n",
        "Lb = LabelEncoder()\n",
        "# iterating the encoding all the attributes\n",
        "for features in df.columns:\n",
        "    df[features] = Lb.fit_transform(df[features])\n",
        "#df.head(100)"
      ],
      "execution_count": null,
      "outputs": []
    },
    {
      "cell_type": "code",
      "metadata": {
        "id": "4_nswViUt4OQ"
      },
      "source": [
        "Y = df['class']\n",
        "X = df.loc[:,:'histology']\n",
        "X_train, X_test, y_train, y_test = train_test_split(X, Y, test_size=0.2, random_state=0)"
      ],
      "execution_count": null,
      "outputs": []
    },
    {
      "cell_type": "markdown",
      "metadata": {
        "id": "1jdrQARcw6Dn"
      },
      "source": [
        "2.1. Gradient Boosting Classifier"
      ]
    },
    {
      "cell_type": "code",
      "metadata": {
        "colab": {
          "base_uri": "https://localhost:8080/"
        },
        "id": "k9E6CY6luSaO",
        "outputId": "e24a9ad2-0c54-4714-905e-d71b4adee1d1"
      },
      "source": [
        "cv = RepeatedStratifiedKFold(n_splits=10, n_repeats=3, random_state=1)\n",
        "clf = GradientBoostingClassifier(n_estimators=1000,max_depth=3,learning_rate=0.05)\n",
        "print(\"Accuracy --> \"+str(np.mean(cross_val_score(clf,X,Y,cv=cv))))\n"
      ],
      "execution_count": null,
      "outputs": [
        {
          "output_type": "stream",
          "text": [
            "Accuracy --> 0.8333333333333334\n"
          ],
          "name": "stdout"
        }
      ]
    },
    {
      "cell_type": "code",
      "metadata": {
        "colab": {
          "base_uri": "https://localhost:8080/"
        },
        "id": "F8x5aG8IxHoR",
        "outputId": "017a0ea3-b002-4c7e-c23f-72dc54a47cbf"
      },
      "source": [
        "clf.fit(X_train, y_train)\n",
        "# Prediction and Confusion Matrix\n",
        "y_pred = clf.predict(X_test)\n",
        "df=pd.DataFrame({'Actual':y_test, 'Predicted':y_pred})\n",
        "print(confusion_matrix(y_test, y_pred))\n",
        "print(classification_report(y_test, y_pred))"
      ],
      "execution_count": null,
      "outputs": [
        {
          "output_type": "stream",
          "text": [
            "[[ 2  1]\n",
            " [ 3 10]]\n",
            "              precision    recall  f1-score   support\n",
            "\n",
            "           0       0.40      0.67      0.50         3\n",
            "           1       0.91      0.77      0.83        13\n",
            "\n",
            "    accuracy                           0.75        16\n",
            "   macro avg       0.65      0.72      0.67        16\n",
            "weighted avg       0.81      0.75      0.77        16\n",
            "\n"
          ],
          "name": "stdout"
        }
      ]
    },
    {
      "cell_type": "code",
      "metadata": {
        "colab": {
          "base_uri": "https://localhost:8080/"
        },
        "id": "pQarSE1CxWq0",
        "outputId": "8102fcbc-fda5-41d7-cd32-364e0d89977c"
      },
      "source": [
        "from sklearn import metrics\n",
        "print('Mean Absolute Error:', metrics.mean_absolute_error(y_test, y_pred))\n",
        "print('Mean Squared Error:', metrics.mean_squared_error(y_test, y_pred))\n",
        "print('Root Mean Squared Error:', np.sqrt(metrics.mean_squared_error(y_test, y_pred)))"
      ],
      "execution_count": null,
      "outputs": [
        {
          "output_type": "stream",
          "text": [
            "Mean Absolute Error: 0.25\n",
            "Mean Squared Error: 0.25\n",
            "Root Mean Squared Error: 0.5\n"
          ],
          "name": "stdout"
        }
      ]
    },
    {
      "cell_type": "markdown",
      "metadata": {
        "id": "cnKRKuTSxDHq"
      },
      "source": [
        "2.2. Random Forest Classifie"
      ]
    },
    {
      "cell_type": "code",
      "metadata": {
        "colab": {
          "base_uri": "https://localhost:8080/"
        },
        "id": "0Aviyhl8uhai",
        "outputId": "7b851393-c6f7-4f9d-ade3-9dfd2ef400f5"
      },
      "source": [
        "cv = RepeatedStratifiedKFold(n_splits=10, n_repeats=3, random_state=1)\n",
        "clf = RandomForestClassifier(n_estimators=1000,random_state=0) # Best performance at current parameters\n",
        "print(\"Accuracy --> \"+str(np.mean(cross_val_score(clf,X,Y,cv=cv))))\n",
        "#print(\"Recall --> \"+str(np.mean(cross_val_score(clf,X,Y,cv=5,scoring='recall'))))"
      ],
      "execution_count": null,
      "outputs": [
        {
          "output_type": "stream",
          "text": [
            "Accuracy --> 0.8958333333333334\n"
          ],
          "name": "stdout"
        }
      ]
    },
    {
      "cell_type": "code",
      "metadata": {
        "colab": {
          "base_uri": "https://localhost:8080/"
        },
        "id": "YK8UELBl4NO5",
        "outputId": "d0a39ea9-022f-4799-b8c5-6cc1238133a9"
      },
      "source": [
        "clf.fit(X_train, y_train)\n",
        "# Prediction and Confusion Matrix\n",
        "y_pred = clf.predict(X_test)\n",
        "df=pd.DataFrame({'Actual':y_test, 'Predicted':y_pred})\n",
        "print(confusion_matrix(y_test, y_pred))\n",
        "print(classification_report(y_test, y_pred))"
      ],
      "execution_count": null,
      "outputs": [
        {
          "output_type": "stream",
          "text": [
            "[[ 2  1]\n",
            " [ 1 12]]\n",
            "              precision    recall  f1-score   support\n",
            "\n",
            "           0       0.67      0.67      0.67         3\n",
            "           1       0.92      0.92      0.92        13\n",
            "\n",
            "    accuracy                           0.88        16\n",
            "   macro avg       0.79      0.79      0.79        16\n",
            "weighted avg       0.88      0.88      0.88        16\n",
            "\n"
          ],
          "name": "stdout"
        }
      ]
    },
    {
      "cell_type": "code",
      "metadata": {
        "colab": {
          "base_uri": "https://localhost:8080/"
        },
        "id": "gMTQqkuL4Ulj",
        "outputId": "0382210c-a823-459a-c276-d95ef2d964cc"
      },
      "source": [
        "from sklearn import metrics\n",
        "print('Mean Absolute Error:', metrics.mean_absolute_error(y_test, y_pred))\n",
        "print('Mean Squared Error:', metrics.mean_squared_error(y_test, y_pred))\n",
        "print('Root Mean Squared Error:', np.sqrt(metrics.mean_squared_error(y_test, y_pred)))"
      ],
      "execution_count": null,
      "outputs": [
        {
          "output_type": "stream",
          "text": [
            "Mean Absolute Error: 0.125\n",
            "Mean Squared Error: 0.125\n",
            "Root Mean Squared Error: 0.3535533905932738\n"
          ],
          "name": "stdout"
        }
      ]
    },
    {
      "cell_type": "markdown",
      "metadata": {
        "id": "mbTFTn3M48af"
      },
      "source": [
        "2.3. Decision Tree Classifier"
      ]
    },
    {
      "cell_type": "code",
      "metadata": {
        "colab": {
          "base_uri": "https://localhost:8080/"
        },
        "id": "6foXm6Yd4cNZ",
        "outputId": "3214c79d-6ee6-498a-825c-5fb2965ab433"
      },
      "source": [
        "cv = RepeatedStratifiedKFold(n_splits=10, n_repeats=3, random_state=1)\n",
        "clf = tree.DecisionTreeClassifier() # Best performance at current parameters\n",
        "print(\"Accuracy --> \"+str(np.mean(cross_val_score(clf,X,Y,cv=cv))))\n",
        "# print(\"Recall --> \"+str(np.mean(cross_val_score(clf,X,y,cv=5,scoring='recall'))))"
      ],
      "execution_count": null,
      "outputs": [
        {
          "output_type": "stream",
          "text": [
            "Accuracy --> 0.8375\n"
          ],
          "name": "stdout"
        }
      ]
    },
    {
      "cell_type": "code",
      "metadata": {
        "colab": {
          "base_uri": "https://localhost:8080/"
        },
        "id": "gPJuurb15Gmq",
        "outputId": "09c6f443-69be-4786-8f6e-5d845ae480a6"
      },
      "source": [
        "clf.fit(X_train, y_train)\n",
        "# Prediction and Confusion Matrix\n",
        "y_pred = clf.predict(X_test)\n",
        "df=pd.DataFrame({'Actual':y_test, 'Predicted':y_pred})\n",
        "print(confusion_matrix(y_test, y_pred))\n",
        "print(classification_report(y_test, y_pred))"
      ],
      "execution_count": null,
      "outputs": [
        {
          "output_type": "stream",
          "text": [
            "[[2 1]\n",
            " [4 9]]\n",
            "              precision    recall  f1-score   support\n",
            "\n",
            "           0       0.33      0.67      0.44         3\n",
            "           1       0.90      0.69      0.78        13\n",
            "\n",
            "    accuracy                           0.69        16\n",
            "   macro avg       0.62      0.68      0.61        16\n",
            "weighted avg       0.79      0.69      0.72        16\n",
            "\n"
          ],
          "name": "stdout"
        }
      ]
    },
    {
      "cell_type": "code",
      "metadata": {
        "colab": {
          "base_uri": "https://localhost:8080/"
        },
        "id": "6slXmoL25LW6",
        "outputId": "40e182f7-f3ea-4869-ebee-bbbef8a717f8"
      },
      "source": [
        "from sklearn import metrics\n",
        "print('Mean Absolute Error:', metrics.mean_absolute_error(y_test, y_pred))\n",
        "print('Mean Squared Error:', metrics.mean_squared_error(y_test, y_pred))\n",
        "print('Root Mean Squared Error:', np.sqrt(metrics.mean_squared_error(y_test, y_pred)))"
      ],
      "execution_count": null,
      "outputs": [
        {
          "output_type": "stream",
          "text": [
            "Mean Absolute Error: 0.3125\n",
            "Mean Squared Error: 0.3125\n",
            "Root Mean Squared Error: 0.5590169943749475\n"
          ],
          "name": "stdout"
        }
      ]
    },
    {
      "cell_type": "markdown",
      "metadata": {
        "id": "RjPdWtDt5S7e"
      },
      "source": [
        "2.4. K Neighbors Classifier"
      ]
    },
    {
      "cell_type": "code",
      "metadata": {
        "colab": {
          "base_uri": "https://localhost:8080/"
        },
        "id": "Qe57oQkq5TkG",
        "outputId": "80fb093c-ef2c-401b-fff8-a7a2d1e93e5d"
      },
      "source": [
        "max_i = -1\n",
        "score = -1\n",
        "max_i_ = -1\n",
        "score_ = -1\n",
        "cv = RepeatedStratifiedKFold(n_splits=10, n_repeats=3, random_state=1)\n",
        "for i in range(1,20):\n",
        "    \n",
        "    clf = KNeighborsClassifier(n_neighbors=i)\n",
        "    temp = np.mean(cross_val_score(clf,X,Y,cv=cv))\n",
        "    # temp2 = np.mean(cross_val_score(clf,X,Y,cv=5,scoring='recall'))\n",
        "    # if temp2>score_:\n",
        "    #     score_=temp2\n",
        "    #     max_i_=i\n",
        "    # if temp>score:\n",
        "    #     score = temp\n",
        "    #     max_i = i\n",
        "    print(\"At k=\"+str(i)+\" accuracy-->\"+str(temp))\n",
        "    # print(\"At k=\"+str(i)+\" recall-->\"+str(temp2))\n",
        "print(\"***************************************************\")\n",
        "print(\"Maximum accuracy-->\"+str(score)+\" at k=\"+str(max_i))\n",
        "print(\"Maximum recall-->\"+str(score_)+\" at k=\"+str(max_i_))"
      ],
      "execution_count": null,
      "outputs": [
        {
          "output_type": "stream",
          "text": [
            "At k=1 accuracy-->0.825\n",
            "At k=2 accuracy-->0.8375\n",
            "At k=3 accuracy-->0.8416666666666667\n",
            "At k=4 accuracy-->0.8583333333333333\n",
            "At k=5 accuracy-->0.85\n",
            "At k=6 accuracy-->0.8291666666666667\n",
            "At k=7 accuracy-->0.8583333333333333\n",
            "At k=8 accuracy-->0.8416666666666667\n",
            "At k=9 accuracy-->0.8416666666666667\n",
            "At k=10 accuracy-->0.8416666666666667\n",
            "At k=11 accuracy-->0.8333333333333334\n",
            "At k=12 accuracy-->0.8208333333333333\n",
            "At k=13 accuracy-->0.8208333333333333\n",
            "At k=14 accuracy-->0.8125\n",
            "At k=15 accuracy-->0.8333333333333334\n",
            "At k=16 accuracy-->0.8291666666666667\n",
            "At k=17 accuracy-->0.8375\n",
            "At k=18 accuracy-->0.8416666666666667\n",
            "At k=19 accuracy-->0.8375\n",
            "***************************************************\n",
            "Maximum accuracy-->-1 at k=-1\n",
            "Maximum recall-->-1 at k=-1\n"
          ],
          "name": "stdout"
        }
      ]
    },
    {
      "cell_type": "code",
      "metadata": {
        "colab": {
          "base_uri": "https://localhost:8080/"
        },
        "id": "u5WNUj895cpT",
        "outputId": "9ec6c551-0683-4136-84bf-bd6f1310a0f0"
      },
      "source": [
        "clf.fit(X_train, y_train)\n",
        "# Prediction and Confusion Matrix\n",
        "y_pred = clf.predict(X_test)\n",
        "df=pd.DataFrame({'Actual':y_test, 'Predicted':y_pred})\n",
        "print(confusion_matrix(y_test, y_pred))\n",
        "print(classification_report(y_test, y_pred))"
      ],
      "execution_count": null,
      "outputs": [
        {
          "output_type": "stream",
          "text": [
            "[[ 0  3]\n",
            " [ 0 13]]\n",
            "              precision    recall  f1-score   support\n",
            "\n",
            "           0       0.00      0.00      0.00         3\n",
            "           1       0.81      1.00      0.90        13\n",
            "\n",
            "    accuracy                           0.81        16\n",
            "   macro avg       0.41      0.50      0.45        16\n",
            "weighted avg       0.66      0.81      0.73        16\n",
            "\n"
          ],
          "name": "stdout"
        },
        {
          "output_type": "stream",
          "text": [
            "/usr/local/lib/python3.7/dist-packages/sklearn/metrics/_classification.py:1272: UndefinedMetricWarning: Precision and F-score are ill-defined and being set to 0.0 in labels with no predicted samples. Use `zero_division` parameter to control this behavior.\n",
            "  _warn_prf(average, modifier, msg_start, len(result))\n"
          ],
          "name": "stderr"
        }
      ]
    },
    {
      "cell_type": "code",
      "metadata": {
        "colab": {
          "base_uri": "https://localhost:8080/"
        },
        "id": "3drhCcSr5eLC",
        "outputId": "30432bff-b2b9-4591-eb83-b1e0fbe1157c"
      },
      "source": [
        "from sklearn import metrics\n",
        "print('Mean Absolute Error:', metrics.mean_absolute_error(y_test, y_pred))\n",
        "print('Mean Squared Error:', metrics.mean_squared_error(y_test, y_pred))\n",
        "print('Root Mean Squared Error:', np.sqrt(metrics.mean_squared_error(y_test, y_pred)))"
      ],
      "execution_count": null,
      "outputs": [
        {
          "output_type": "stream",
          "text": [
            "Mean Absolute Error: 0.1875\n",
            "Mean Squared Error: 0.1875\n",
            "Root Mean Squared Error: 0.4330127018922193\n"
          ],
          "name": "stdout"
        }
      ]
    },
    {
      "cell_type": "markdown",
      "metadata": {
        "id": "w1pWdkjn5i-y"
      },
      "source": [
        "2.5. SVM"
      ]
    },
    {
      "cell_type": "code",
      "metadata": {
        "colab": {
          "base_uri": "https://localhost:8080/"
        },
        "id": "s5i5NRH45g8k",
        "outputId": "cc946614-7070-4e14-9b46-4ce8d69ad33e"
      },
      "source": [
        "# training a SVM classifier\n",
        "cv = RepeatedStratifiedKFold(n_splits=10, n_repeats=3, random_state=1)\n",
        "#clf = SVC(kernel = 'linear', C = 1, random_state = 0)  \n",
        "#clf = SVC(kernel = 'poly', C = 1, random_state = 0)  \n",
        "clf = SVC(kernel = 'rbf', C = 10, random_state = 0)\n",
        "print(\"Accuracy --> \"+str(np.mean(cross_val_score(clf,X,Y,cv=cv))))  "
      ],
      "execution_count": null,
      "outputs": [
        {
          "output_type": "stream",
          "text": [
            "Accuracy --> 0.875\n"
          ],
          "name": "stdout"
        }
      ]
    },
    {
      "cell_type": "code",
      "metadata": {
        "colab": {
          "base_uri": "https://localhost:8080/"
        },
        "id": "GflDdrhVqq8v",
        "outputId": "6afa4119-7815-4c90-c7c7-fab53caf297d"
      },
      "source": [
        "clf.fit(X_train, y_train)\n",
        "# Prediction and Confusion Matrix\n",
        "y_pred = clf.predict(X_test)\n",
        "df=pd.DataFrame({'Actual':y_test, 'Predicted':y_pred})\n",
        "print(confusion_matrix(y_test, y_pred))\n",
        "print(classification_report(y_test, y_pred))"
      ],
      "execution_count": null,
      "outputs": [
        {
          "output_type": "stream",
          "text": [
            "[[ 2  1]\n",
            " [ 0 13]]\n",
            "              precision    recall  f1-score   support\n",
            "\n",
            "           0       1.00      0.67      0.80         3\n",
            "           1       0.93      1.00      0.96        13\n",
            "\n",
            "    accuracy                           0.94        16\n",
            "   macro avg       0.96      0.83      0.88        16\n",
            "weighted avg       0.94      0.94      0.93        16\n",
            "\n"
          ],
          "name": "stdout"
        }
      ]
    },
    {
      "cell_type": "code",
      "metadata": {
        "colab": {
          "base_uri": "https://localhost:8080/"
        },
        "id": "evPrGEdR5u9W",
        "outputId": "0592c5b2-979d-4acd-92cd-5ed14a7fabb7"
      },
      "source": [
        "from sklearn import metrics\n",
        "print('Mean Absolute Error:', metrics.mean_absolute_error(y_test, y_pred))\n",
        "print('Mean Squared Error:', metrics.mean_squared_error(y_test, y_pred))\n",
        "print('Root Mean Squared Error:', np.sqrt(metrics.mean_squared_error(y_test, y_pred)))"
      ],
      "execution_count": null,
      "outputs": [
        {
          "output_type": "stream",
          "text": [
            "Mean Absolute Error: 0.0625\n",
            "Mean Squared Error: 0.0625\n",
            "Root Mean Squared Error: 0.25\n"
          ],
          "name": "stdout"
        }
      ]
    },
    {
      "cell_type": "markdown",
      "metadata": {
        "id": "rRChFZqc5xjs"
      },
      "source": [
        "2.6. MLP Classifier"
      ]
    },
    {
      "cell_type": "code",
      "metadata": {
        "id": "_FCMpB4k50HL"
      },
      "source": [
        "min_max_scaler = preprocessing.MinMaxScaler()\n",
        "X_train, X_test, y_train, y_test = train_test_split(X, Y, test_size=0.2, random_state=0)\n",
        "X_scale = min_max_scaler.fit_transform(X)\n",
        "X_train, X_val_and_test, Y_train, Y_val_and_test = train_test_split(X_scale, Y, test_size=0.2)\n",
        "X_val, X_test, Y_val, Y_test = train_test_split(X_val_and_test, Y_val_and_test, test_size=0.2)"
      ],
      "execution_count": null,
      "outputs": []
    },
    {
      "cell_type": "code",
      "metadata": {
        "colab": {
          "base_uri": "https://localhost:8080/"
        },
        "id": "7WEg7hMI51LT",
        "outputId": "06125f66-b79c-4bdb-c87c-f76cb16b867f"
      },
      "source": [
        "model = Sequential([\n",
        "    Dense(32, activation='relu', input_shape=(19,)),\n",
        "    Dense(32, activation='relu'),\n",
        "    Dense(1, activation='sigmoid'),\n",
        "])\n",
        "model.compile(optimizer='sgd',\n",
        "              loss='binary_crossentropy',\n",
        "              metrics=['accuracy'])\n",
        "hist = model.fit(X_train, y_train,\n",
        "          batch_size=32, epochs=100,\n",
        "          validation_data=(X_val, Y_val))"
      ],
      "execution_count": null,
      "outputs": [
        {
          "output_type": "stream",
          "text": [
            "Epoch 1/100\n",
            "2/2 [==============================] - 1s 245ms/step - loss: 0.7437 - accuracy: 0.3125 - val_loss: 0.7703 - val_accuracy: 0.2500\n",
            "Epoch 2/100\n",
            "2/2 [==============================] - 0s 46ms/step - loss: 0.7085 - accuracy: 0.4167 - val_loss: 0.7399 - val_accuracy: 0.4167\n",
            "Epoch 3/100\n",
            "2/2 [==============================] - 0s 54ms/step - loss: 0.6573 - accuracy: 0.5208 - val_loss: 0.7136 - val_accuracy: 0.4167\n",
            "Epoch 4/100\n",
            "2/2 [==============================] - 0s 51ms/step - loss: 0.6518 - accuracy: 0.5521 - val_loss: 0.6904 - val_accuracy: 0.5833\n",
            "Epoch 5/100\n",
            "2/2 [==============================] - 0s 48ms/step - loss: 0.6240 - accuracy: 0.6875 - val_loss: 0.6698 - val_accuracy: 0.6667\n",
            "Epoch 6/100\n",
            "2/2 [==============================] - 0s 53ms/step - loss: 0.5964 - accuracy: 0.7708 - val_loss: 0.6518 - val_accuracy: 0.7500\n",
            "Epoch 7/100\n",
            "2/2 [==============================] - 0s 50ms/step - loss: 0.5831 - accuracy: 0.7812 - val_loss: 0.6359 - val_accuracy: 0.8333\n",
            "Epoch 8/100\n",
            "2/2 [==============================] - 0s 43ms/step - loss: 0.5752 - accuracy: 0.8229 - val_loss: 0.6216 - val_accuracy: 0.8333\n",
            "Epoch 9/100\n",
            "2/2 [==============================] - 0s 54ms/step - loss: 0.5586 - accuracy: 0.8438 - val_loss: 0.6090 - val_accuracy: 0.8333\n",
            "Epoch 10/100\n",
            "2/2 [==============================] - 0s 49ms/step - loss: 0.5589 - accuracy: 0.8333 - val_loss: 0.5978 - val_accuracy: 0.8333\n",
            "Epoch 11/100\n",
            "2/2 [==============================] - 0s 69ms/step - loss: 0.5276 - accuracy: 0.8542 - val_loss: 0.5877 - val_accuracy: 0.8333\n",
            "Epoch 12/100\n",
            "2/2 [==============================] - 0s 53ms/step - loss: 0.5066 - accuracy: 0.8750 - val_loss: 0.5788 - val_accuracy: 0.8333\n",
            "Epoch 13/100\n",
            "2/2 [==============================] - 0s 48ms/step - loss: 0.5072 - accuracy: 0.8750 - val_loss: 0.5707 - val_accuracy: 0.8333\n",
            "Epoch 14/100\n",
            "2/2 [==============================] - 0s 53ms/step - loss: 0.4996 - accuracy: 0.8750 - val_loss: 0.5635 - val_accuracy: 0.8333\n",
            "Epoch 15/100\n",
            "2/2 [==============================] - 0s 49ms/step - loss: 0.4963 - accuracy: 0.8646 - val_loss: 0.5571 - val_accuracy: 0.8333\n",
            "Epoch 16/100\n",
            "2/2 [==============================] - 0s 50ms/step - loss: 0.4812 - accuracy: 0.8750 - val_loss: 0.5515 - val_accuracy: 0.8333\n",
            "Epoch 17/100\n",
            "2/2 [==============================] - 0s 51ms/step - loss: 0.4855 - accuracy: 0.8438 - val_loss: 0.5464 - val_accuracy: 0.8333\n",
            "Epoch 18/100\n",
            "2/2 [==============================] - 0s 50ms/step - loss: 0.4842 - accuracy: 0.8438 - val_loss: 0.5419 - val_accuracy: 0.8333\n",
            "Epoch 19/100\n",
            "2/2 [==============================] - 0s 54ms/step - loss: 0.4777 - accuracy: 0.8333 - val_loss: 0.5378 - val_accuracy: 0.8333\n",
            "Epoch 20/100\n",
            "2/2 [==============================] - 0s 55ms/step - loss: 0.4751 - accuracy: 0.8333 - val_loss: 0.5342 - val_accuracy: 0.8333\n",
            "Epoch 21/100\n",
            "2/2 [==============================] - 0s 56ms/step - loss: 0.4672 - accuracy: 0.8333 - val_loss: 0.5310 - val_accuracy: 0.8333\n",
            "Epoch 22/100\n",
            "2/2 [==============================] - 0s 53ms/step - loss: 0.4644 - accuracy: 0.8333 - val_loss: 0.5281 - val_accuracy: 0.8333\n",
            "Epoch 23/100\n",
            "2/2 [==============================] - 0s 48ms/step - loss: 0.4465 - accuracy: 0.8542 - val_loss: 0.5255 - val_accuracy: 0.8333\n",
            "Epoch 24/100\n",
            "2/2 [==============================] - 0s 46ms/step - loss: 0.4359 - accuracy: 0.8646 - val_loss: 0.5232 - val_accuracy: 0.8333\n",
            "Epoch 25/100\n",
            "2/2 [==============================] - 0s 57ms/step - loss: 0.4484 - accuracy: 0.8438 - val_loss: 0.5211 - val_accuracy: 0.8333\n",
            "Epoch 26/100\n",
            "2/2 [==============================] - 0s 57ms/step - loss: 0.4314 - accuracy: 0.8542 - val_loss: 0.5192 - val_accuracy: 0.8333\n",
            "Epoch 27/100\n",
            "2/2 [==============================] - 0s 47ms/step - loss: 0.4551 - accuracy: 0.8229 - val_loss: 0.5176 - val_accuracy: 0.8333\n",
            "Epoch 28/100\n",
            "2/2 [==============================] - 0s 53ms/step - loss: 0.4409 - accuracy: 0.8333 - val_loss: 0.5162 - val_accuracy: 0.8333\n",
            "Epoch 29/100\n",
            "2/2 [==============================] - 0s 54ms/step - loss: 0.4336 - accuracy: 0.8333 - val_loss: 0.5150 - val_accuracy: 0.8333\n",
            "Epoch 30/100\n",
            "2/2 [==============================] - 0s 47ms/step - loss: 0.4338 - accuracy: 0.8438 - val_loss: 0.5139 - val_accuracy: 0.8333\n",
            "Epoch 31/100\n",
            "2/2 [==============================] - 0s 55ms/step - loss: 0.4349 - accuracy: 0.8438 - val_loss: 0.5129 - val_accuracy: 0.8333\n",
            "Epoch 32/100\n",
            "2/2 [==============================] - 0s 54ms/step - loss: 0.4279 - accuracy: 0.8333 - val_loss: 0.5120 - val_accuracy: 0.8333\n",
            "Epoch 33/100\n",
            "2/2 [==============================] - 0s 44ms/step - loss: 0.4333 - accuracy: 0.8333 - val_loss: 0.5112 - val_accuracy: 0.8333\n",
            "Epoch 34/100\n",
            "2/2 [==============================] - 0s 47ms/step - loss: 0.4267 - accuracy: 0.8438 - val_loss: 0.5105 - val_accuracy: 0.8333\n",
            "Epoch 35/100\n",
            "2/2 [==============================] - 0s 78ms/step - loss: 0.4215 - accuracy: 0.8438 - val_loss: 0.5099 - val_accuracy: 0.8333\n",
            "Epoch 36/100\n",
            "2/2 [==============================] - 0s 61ms/step - loss: 0.3977 - accuracy: 0.8646 - val_loss: 0.5093 - val_accuracy: 0.8333\n",
            "Epoch 37/100\n",
            "2/2 [==============================] - 0s 47ms/step - loss: 0.3794 - accuracy: 0.8750 - val_loss: 0.5089 - val_accuracy: 0.8333\n",
            "Epoch 38/100\n",
            "2/2 [==============================] - 0s 46ms/step - loss: 0.4148 - accuracy: 0.8438 - val_loss: 0.5085 - val_accuracy: 0.8333\n",
            "Epoch 39/100\n",
            "2/2 [==============================] - 0s 51ms/step - loss: 0.4065 - accuracy: 0.8438 - val_loss: 0.5081 - val_accuracy: 0.8333\n",
            "Epoch 40/100\n",
            "2/2 [==============================] - 0s 49ms/step - loss: 0.4160 - accuracy: 0.8438 - val_loss: 0.5078 - val_accuracy: 0.8333\n",
            "Epoch 41/100\n",
            "2/2 [==============================] - 0s 54ms/step - loss: 0.3983 - accuracy: 0.8542 - val_loss: 0.5076 - val_accuracy: 0.8333\n",
            "Epoch 42/100\n",
            "2/2 [==============================] - 0s 53ms/step - loss: 0.4065 - accuracy: 0.8438 - val_loss: 0.5074 - val_accuracy: 0.8333\n",
            "Epoch 43/100\n",
            "2/2 [==============================] - 0s 50ms/step - loss: 0.3997 - accuracy: 0.8542 - val_loss: 0.5072 - val_accuracy: 0.8333\n",
            "Epoch 44/100\n",
            "2/2 [==============================] - 0s 47ms/step - loss: 0.4080 - accuracy: 0.8438 - val_loss: 0.5070 - val_accuracy: 0.8333\n",
            "Epoch 45/100\n",
            "2/2 [==============================] - 0s 46ms/step - loss: 0.4073 - accuracy: 0.8438 - val_loss: 0.5069 - val_accuracy: 0.8333\n",
            "Epoch 46/100\n",
            "2/2 [==============================] - 0s 51ms/step - loss: 0.4127 - accuracy: 0.8438 - val_loss: 0.5068 - val_accuracy: 0.8333\n",
            "Epoch 47/100\n",
            "2/2 [==============================] - 0s 55ms/step - loss: 0.3993 - accuracy: 0.8542 - val_loss: 0.5067 - val_accuracy: 0.8333\n",
            "Epoch 48/100\n",
            "2/2 [==============================] - 0s 65ms/step - loss: 0.3828 - accuracy: 0.8646 - val_loss: 0.5066 - val_accuracy: 0.8333\n",
            "Epoch 49/100\n",
            "2/2 [==============================] - 0s 53ms/step - loss: 0.3900 - accuracy: 0.8542 - val_loss: 0.5066 - val_accuracy: 0.8333\n",
            "Epoch 50/100\n",
            "2/2 [==============================] - 0s 59ms/step - loss: 0.4443 - accuracy: 0.8125 - val_loss: 0.5065 - val_accuracy: 0.8333\n",
            "Epoch 51/100\n",
            "2/2 [==============================] - 0s 49ms/step - loss: 0.4074 - accuracy: 0.8438 - val_loss: 0.5064 - val_accuracy: 0.8333\n",
            "Epoch 52/100\n",
            "2/2 [==============================] - 0s 43ms/step - loss: 0.4333 - accuracy: 0.8229 - val_loss: 0.5064 - val_accuracy: 0.8333\n",
            "Epoch 53/100\n",
            "2/2 [==============================] - 0s 56ms/step - loss: 0.4109 - accuracy: 0.8333 - val_loss: 0.5063 - val_accuracy: 0.8333\n",
            "Epoch 54/100\n",
            "2/2 [==============================] - 0s 46ms/step - loss: 0.4085 - accuracy: 0.8438 - val_loss: 0.5063 - val_accuracy: 0.8333\n",
            "Epoch 55/100\n",
            "2/2 [==============================] - 0s 43ms/step - loss: 0.4102 - accuracy: 0.8438 - val_loss: 0.5062 - val_accuracy: 0.8333\n",
            "Epoch 56/100\n",
            "2/2 [==============================] - 0s 53ms/step - loss: 0.3905 - accuracy: 0.8542 - val_loss: 0.5062 - val_accuracy: 0.8333\n",
            "Epoch 57/100\n",
            "2/2 [==============================] - 0s 48ms/step - loss: 0.4282 - accuracy: 0.8229 - val_loss: 0.5062 - val_accuracy: 0.8333\n",
            "Epoch 58/100\n",
            "2/2 [==============================] - 0s 45ms/step - loss: 0.4096 - accuracy: 0.8333 - val_loss: 0.5061 - val_accuracy: 0.8333\n",
            "Epoch 59/100\n",
            "2/2 [==============================] - 0s 51ms/step - loss: 0.4167 - accuracy: 0.8333 - val_loss: 0.5061 - val_accuracy: 0.8333\n",
            "Epoch 60/100\n",
            "2/2 [==============================] - 0s 56ms/step - loss: 0.4139 - accuracy: 0.8333 - val_loss: 0.5061 - val_accuracy: 0.8333\n",
            "Epoch 61/100\n",
            "2/2 [==============================] - 0s 51ms/step - loss: 0.3546 - accuracy: 0.8750 - val_loss: 0.5060 - val_accuracy: 0.8333\n",
            "Epoch 62/100\n",
            "2/2 [==============================] - 0s 54ms/step - loss: 0.4047 - accuracy: 0.8333 - val_loss: 0.5060 - val_accuracy: 0.8333\n",
            "Epoch 63/100\n",
            "2/2 [==============================] - 0s 60ms/step - loss: 0.3530 - accuracy: 0.8750 - val_loss: 0.5059 - val_accuracy: 0.8333\n",
            "Epoch 64/100\n",
            "2/2 [==============================] - 0s 51ms/step - loss: 0.4661 - accuracy: 0.7917 - val_loss: 0.5059 - val_accuracy: 0.8333\n",
            "Epoch 65/100\n",
            "2/2 [==============================] - 0s 52ms/step - loss: 0.4171 - accuracy: 0.8333 - val_loss: 0.5059 - val_accuracy: 0.8333\n",
            "Epoch 66/100\n",
            "2/2 [==============================] - 0s 48ms/step - loss: 0.3748 - accuracy: 0.8542 - val_loss: 0.5058 - val_accuracy: 0.8333\n",
            "Epoch 67/100\n",
            "2/2 [==============================] - 0s 46ms/step - loss: 0.4012 - accuracy: 0.8438 - val_loss: 0.5058 - val_accuracy: 0.8333\n",
            "Epoch 68/100\n",
            "2/2 [==============================] - 0s 53ms/step - loss: 0.4211 - accuracy: 0.8229 - val_loss: 0.5058 - val_accuracy: 0.8333\n",
            "Epoch 69/100\n",
            "2/2 [==============================] - 0s 58ms/step - loss: 0.3745 - accuracy: 0.8646 - val_loss: 0.5057 - val_accuracy: 0.8333\n",
            "Epoch 70/100\n",
            "2/2 [==============================] - 0s 50ms/step - loss: 0.3934 - accuracy: 0.8438 - val_loss: 0.5056 - val_accuracy: 0.8333\n",
            "Epoch 71/100\n",
            "2/2 [==============================] - 0s 51ms/step - loss: 0.3959 - accuracy: 0.8438 - val_loss: 0.5056 - val_accuracy: 0.8333\n",
            "Epoch 72/100\n",
            "2/2 [==============================] - 0s 65ms/step - loss: 0.3859 - accuracy: 0.8542 - val_loss: 0.5055 - val_accuracy: 0.8333\n",
            "Epoch 73/100\n",
            "2/2 [==============================] - 0s 52ms/step - loss: 0.4229 - accuracy: 0.8229 - val_loss: 0.5055 - val_accuracy: 0.8333\n",
            "Epoch 74/100\n",
            "2/2 [==============================] - 0s 59ms/step - loss: 0.4045 - accuracy: 0.8333 - val_loss: 0.5054 - val_accuracy: 0.8333\n",
            "Epoch 75/100\n",
            "2/2 [==============================] - 0s 50ms/step - loss: 0.3779 - accuracy: 0.8542 - val_loss: 0.5053 - val_accuracy: 0.8333\n",
            "Epoch 76/100\n",
            "2/2 [==============================] - 0s 49ms/step - loss: 0.3975 - accuracy: 0.8438 - val_loss: 0.5053 - val_accuracy: 0.8333\n",
            "Epoch 77/100\n",
            "2/2 [==============================] - 0s 46ms/step - loss: 0.3920 - accuracy: 0.8438 - val_loss: 0.5052 - val_accuracy: 0.8333\n",
            "Epoch 78/100\n",
            "2/2 [==============================] - 0s 45ms/step - loss: 0.3666 - accuracy: 0.8646 - val_loss: 0.5051 - val_accuracy: 0.8333\n",
            "Epoch 79/100\n",
            "2/2 [==============================] - 0s 45ms/step - loss: 0.3940 - accuracy: 0.8438 - val_loss: 0.5051 - val_accuracy: 0.8333\n",
            "Epoch 80/100\n",
            "2/2 [==============================] - 0s 43ms/step - loss: 0.4155 - accuracy: 0.8229 - val_loss: 0.5050 - val_accuracy: 0.8333\n",
            "Epoch 81/100\n",
            "2/2 [==============================] - 0s 50ms/step - loss: 0.3754 - accuracy: 0.8542 - val_loss: 0.5050 - val_accuracy: 0.8333\n",
            "Epoch 82/100\n",
            "2/2 [==============================] - 0s 43ms/step - loss: 0.4339 - accuracy: 0.8125 - val_loss: 0.5049 - val_accuracy: 0.8333\n",
            "Epoch 83/100\n",
            "2/2 [==============================] - 0s 43ms/step - loss: 0.4111 - accuracy: 0.8333 - val_loss: 0.5049 - val_accuracy: 0.8333\n",
            "Epoch 84/100\n",
            "2/2 [==============================] - 0s 42ms/step - loss: 0.3738 - accuracy: 0.8542 - val_loss: 0.5048 - val_accuracy: 0.8333\n",
            "Epoch 85/100\n",
            "2/2 [==============================] - 0s 54ms/step - loss: 0.3847 - accuracy: 0.8438 - val_loss: 0.5048 - val_accuracy: 0.8333\n",
            "Epoch 86/100\n",
            "2/2 [==============================] - 0s 47ms/step - loss: 0.3891 - accuracy: 0.8438 - val_loss: 0.5047 - val_accuracy: 0.8333\n",
            "Epoch 87/100\n",
            "2/2 [==============================] - 0s 58ms/step - loss: 0.3938 - accuracy: 0.8438 - val_loss: 0.5046 - val_accuracy: 0.8333\n",
            "Epoch 88/100\n",
            "2/2 [==============================] - 0s 54ms/step - loss: 0.4059 - accuracy: 0.8333 - val_loss: 0.5046 - val_accuracy: 0.8333\n",
            "Epoch 89/100\n",
            "2/2 [==============================] - 0s 56ms/step - loss: 0.3657 - accuracy: 0.8542 - val_loss: 0.5045 - val_accuracy: 0.8333\n",
            "Epoch 90/100\n",
            "2/2 [==============================] - 0s 48ms/step - loss: 0.3880 - accuracy: 0.8438 - val_loss: 0.5044 - val_accuracy: 0.8333\n",
            "Epoch 91/100\n",
            "2/2 [==============================] - 0s 55ms/step - loss: 0.3694 - accuracy: 0.8542 - val_loss: 0.5043 - val_accuracy: 0.8333\n",
            "Epoch 92/100\n",
            "2/2 [==============================] - 0s 44ms/step - loss: 0.3874 - accuracy: 0.8438 - val_loss: 0.5043 - val_accuracy: 0.8333\n",
            "Epoch 93/100\n",
            "2/2 [==============================] - 0s 48ms/step - loss: 0.3976 - accuracy: 0.8333 - val_loss: 0.5042 - val_accuracy: 0.8333\n",
            "Epoch 94/100\n",
            "2/2 [==============================] - 0s 52ms/step - loss: 0.3756 - accuracy: 0.8542 - val_loss: 0.5041 - val_accuracy: 0.8333\n",
            "Epoch 95/100\n",
            "2/2 [==============================] - 0s 45ms/step - loss: 0.4239 - accuracy: 0.8125 - val_loss: 0.5040 - val_accuracy: 0.8333\n",
            "Epoch 96/100\n",
            "2/2 [==============================] - 0s 42ms/step - loss: 0.3736 - accuracy: 0.8542 - val_loss: 0.5039 - val_accuracy: 0.8333\n",
            "Epoch 97/100\n",
            "2/2 [==============================] - 0s 51ms/step - loss: 0.4160 - accuracy: 0.8229 - val_loss: 0.5039 - val_accuracy: 0.8333\n",
            "Epoch 98/100\n",
            "2/2 [==============================] - 0s 49ms/step - loss: 0.3859 - accuracy: 0.8438 - val_loss: 0.5038 - val_accuracy: 0.8333\n",
            "Epoch 99/100\n",
            "2/2 [==============================] - 0s 50ms/step - loss: 0.3686 - accuracy: 0.8542 - val_loss: 0.5037 - val_accuracy: 0.8333\n",
            "Epoch 100/100\n",
            "2/2 [==============================] - 0s 51ms/step - loss: 0.3973 - accuracy: 0.8333 - val_loss: 0.5036 - val_accuracy: 0.8333\n"
          ],
          "name": "stdout"
        }
      ]
    }
  ]
}