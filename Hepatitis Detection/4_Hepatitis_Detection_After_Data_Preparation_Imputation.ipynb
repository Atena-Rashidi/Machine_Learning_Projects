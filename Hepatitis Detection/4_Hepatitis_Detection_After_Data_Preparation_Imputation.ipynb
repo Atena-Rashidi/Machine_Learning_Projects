{
  "nbformat": 4,
  "nbformat_minor": 0,
  "metadata": {
    "colab": {
      "provenance": [],
      "collapsed_sections": []
    },
    "kernelspec": {
      "name": "python3",
      "display_name": "Python 3"
    },
    "language_info": {
      "name": "python"
    }
  },
  "cells": [
    {
      "cell_type": "code",
      "metadata": {
        "id": "phehyt43IrLE"
      },
      "source": [
        "import numpy as np\n",
        "import pandas as pd\n",
        "import matplotlib.pyplot as plt\n",
        "from sklearn.ensemble import GradientBoostingClassifier\n",
        "from sklearn.neighbors import KNeighborsClassifier\n",
        "from sklearn.svm import SVC\n",
        "from sklearn.ensemble import RandomForestClassifier\n",
        "from sklearn import tree\n",
        "from sklearn.model_selection import cross_val_score\n",
        "import seaborn as sns\n",
        "# For manupulating the data\n",
        "from sklearn.model_selection import train_test_split\n",
        "from sklearn.model_selection import KFold\n",
        "from sklearn.preprocessing import LabelEncoder\n",
        "# Models under the Sklearn\n",
        "from sklearn.neighbors import KNeighborsClassifier\n",
        "from sklearn.cluster import KMeans\n",
        "# to calculate the performances of the models \n",
        "from sklearn.metrics import confusion_matrix\n",
        "from sklearn.metrics import classification_report\n",
        "from sklearn.metrics import accuracy_score\n",
        "from sklearn.model_selection import cross_val_score # score evaluation\n",
        "from sklearn.model_selection import cross_val_predict # prediction\n",
        "from keras.models import Sequential\n",
        "from keras.layers import Dense\n",
        "from sklearn.neural_network import MLPClassifier\n",
        "from sklearn import preprocessing\n",
        "from sklearn.datasets import load_iris\n",
        "from sklearn.linear_model import LogisticRegression\n",
        "from sklearn.model_selection import RepeatedStratifiedKFold"
      ],
      "execution_count": null,
      "outputs": []
    },
    {
      "cell_type": "markdown",
      "source": [
        "**Dataset**\n",
        "\n",
        "This dataset contains occurrences of hepatitis in people. \n",
        "The dataset has been downloaded from  “hepatitis_csv dataset.” https://www.openml.org/d/55, and the code was programmed in Google Colab. "
      ],
      "metadata": {
        "id": "5H0rIqP-K5OH"
      }
    },
    {
      "cell_type": "markdown",
      "metadata": {
        "id": "hzba9_8oZ7H6"
      },
      "source": [
        "**3. Data Preparation: Dropping the features(columns) with the most NaN**"
      ]
    },
    {
      "cell_type": "code",
      "metadata": {
        "id": "zGlar1xcaGJV"
      },
      "source": [
        "data = pd.read_csv(\"/content/hepatitis_csv.csv\")\n",
        "#data.head(20)"
      ],
      "execution_count": null,
      "outputs": []
    },
    {
      "cell_type": "markdown",
      "source": [
        "**4. Data Preparation: Imputation**"
      ],
      "metadata": {
        "id": "rzHS4tkCXpnJ"
      }
    },
    {
      "cell_type": "code",
      "metadata": {
        "id": "HZ3YCUbKuWNy"
      },
      "source": [
        "data = pd.read_csv(\"/content/hepatitis_csv.csv\")\n",
        "#data.head(20)"
      ],
      "execution_count": null,
      "outputs": []
    },
    {
      "cell_type": "code",
      "metadata": {
        "colab": {
          "base_uri": "https://localhost:8080/"
        },
        "id": "LhKHjA-r2wqr",
        "outputId": "07dfce8b-ada2-407d-b7fa-d040a86d9820"
      },
      "source": [
        "print(data.isnull().sum())"
      ],
      "execution_count": null,
      "outputs": [
        {
          "output_type": "stream",
          "text": [
            "age                 0\n",
            "sex                 0\n",
            "steroid             1\n",
            "antivirals          0\n",
            "fatigue             1\n",
            "malaise             1\n",
            "anorexia            1\n",
            "liver_big          10\n",
            "liver_firm         11\n",
            "spleen_palpable     5\n",
            "spiders             5\n",
            "ascites             5\n",
            "varices             5\n",
            "bilirubin           6\n",
            "alk_phosphate      29\n",
            "sgot                4\n",
            "albumin            16\n",
            "protime            67\n",
            "histology           0\n",
            "class               0\n",
            "dtype: int64\n"
          ],
          "name": "stdout"
        }
      ]
    },
    {
      "cell_type": "code",
      "metadata": {
        "colab": {
          "base_uri": "https://localhost:8080/",
          "height": 878
        },
        "id": "mmVqU02CFgv3",
        "outputId": "85297d60-7706-4d24-d2d6-51634cde3c80"
      },
      "source": [
        "df = data\n",
        "df['bilirubin'] = df['bilirubin'].fillna(df['bilirubin'].mean())\n",
        "df['alk_phosphate'] = df['alk_phosphate'].fillna(df['alk_phosphate'].mean())\n",
        "df['sgot'] = df['sgot'].fillna(df['sgot'].mean())\n",
        "df['albumin'] = df['albumin'].fillna(df['albumin'].mean())\n",
        "df['protime'] = df['protime'].fillna(df['protime'].mean())\n",
        "df.varices = df.varices.fillna(False)\n",
        "df.steroid = df.steroid.fillna(False)\n",
        "df.fatigue = df.fatigue.fillna(True)\n",
        "df.malaise = df.malaise.fillna(True)\n",
        "df.anorexia = df.anorexia.fillna(True)\n",
        "df.liver_big = df.liver_big.fillna(False)\n",
        "df.liver_firm = df.liver_firm.fillna(True)\n",
        "df.spleen_palpable = df.spleen_palpable.fillna(True)\n",
        "df.spiders = df.spiders.fillna(True)\n",
        "df.ascites = df.ascites.fillna(True)\n",
        "\n",
        "df.info()\n",
        "df"
      ],
      "execution_count": null,
      "outputs": [
        {
          "output_type": "stream",
          "text": [
            "<class 'pandas.core.frame.DataFrame'>\n",
            "RangeIndex: 155 entries, 0 to 154\n",
            "Data columns (total 20 columns):\n",
            " #   Column           Non-Null Count  Dtype  \n",
            "---  ------           --------------  -----  \n",
            " 0   age              155 non-null    int64  \n",
            " 1   sex              155 non-null    object \n",
            " 2   steroid          155 non-null    bool   \n",
            " 3   antivirals       155 non-null    bool   \n",
            " 4   fatigue          155 non-null    bool   \n",
            " 5   malaise          155 non-null    bool   \n",
            " 6   anorexia         155 non-null    bool   \n",
            " 7   liver_big        155 non-null    bool   \n",
            " 8   liver_firm       155 non-null    bool   \n",
            " 9   spleen_palpable  155 non-null    bool   \n",
            " 10  spiders          155 non-null    bool   \n",
            " 11  ascites          155 non-null    bool   \n",
            " 12  varices          155 non-null    bool   \n",
            " 13  bilirubin        155 non-null    float64\n",
            " 14  alk_phosphate    155 non-null    float64\n",
            " 15  sgot             155 non-null    float64\n",
            " 16  albumin          155 non-null    float64\n",
            " 17  protime          155 non-null    float64\n",
            " 18  histology        155 non-null    bool   \n",
            " 19  class            155 non-null    object \n",
            "dtypes: bool(12), float64(5), int64(1), object(2)\n",
            "memory usage: 11.6+ KB\n"
          ],
          "name": "stdout"
        },
        {
          "output_type": "execute_result",
          "data": {
            "text/html": [
              "<div>\n",
              "<style scoped>\n",
              "    .dataframe tbody tr th:only-of-type {\n",
              "        vertical-align: middle;\n",
              "    }\n",
              "\n",
              "    .dataframe tbody tr th {\n",
              "        vertical-align: top;\n",
              "    }\n",
              "\n",
              "    .dataframe thead th {\n",
              "        text-align: right;\n",
              "    }\n",
              "</style>\n",
              "<table border=\"1\" class=\"dataframe\">\n",
              "  <thead>\n",
              "    <tr style=\"text-align: right;\">\n",
              "      <th></th>\n",
              "      <th>age</th>\n",
              "      <th>sex</th>\n",
              "      <th>steroid</th>\n",
              "      <th>antivirals</th>\n",
              "      <th>fatigue</th>\n",
              "      <th>malaise</th>\n",
              "      <th>anorexia</th>\n",
              "      <th>liver_big</th>\n",
              "      <th>liver_firm</th>\n",
              "      <th>spleen_palpable</th>\n",
              "      <th>spiders</th>\n",
              "      <th>ascites</th>\n",
              "      <th>varices</th>\n",
              "      <th>bilirubin</th>\n",
              "      <th>alk_phosphate</th>\n",
              "      <th>sgot</th>\n",
              "      <th>albumin</th>\n",
              "      <th>protime</th>\n",
              "      <th>histology</th>\n",
              "      <th>class</th>\n",
              "    </tr>\n",
              "  </thead>\n",
              "  <tbody>\n",
              "    <tr>\n",
              "      <th>0</th>\n",
              "      <td>30</td>\n",
              "      <td>male</td>\n",
              "      <td>False</td>\n",
              "      <td>False</td>\n",
              "      <td>False</td>\n",
              "      <td>False</td>\n",
              "      <td>False</td>\n",
              "      <td>False</td>\n",
              "      <td>False</td>\n",
              "      <td>False</td>\n",
              "      <td>False</td>\n",
              "      <td>False</td>\n",
              "      <td>False</td>\n",
              "      <td>1.0</td>\n",
              "      <td>85.000000</td>\n",
              "      <td>18.0</td>\n",
              "      <td>4.0</td>\n",
              "      <td>61.852273</td>\n",
              "      <td>False</td>\n",
              "      <td>live</td>\n",
              "    </tr>\n",
              "    <tr>\n",
              "      <th>1</th>\n",
              "      <td>50</td>\n",
              "      <td>female</td>\n",
              "      <td>False</td>\n",
              "      <td>False</td>\n",
              "      <td>True</td>\n",
              "      <td>False</td>\n",
              "      <td>False</td>\n",
              "      <td>False</td>\n",
              "      <td>False</td>\n",
              "      <td>False</td>\n",
              "      <td>False</td>\n",
              "      <td>False</td>\n",
              "      <td>False</td>\n",
              "      <td>0.9</td>\n",
              "      <td>135.000000</td>\n",
              "      <td>42.0</td>\n",
              "      <td>3.5</td>\n",
              "      <td>61.852273</td>\n",
              "      <td>False</td>\n",
              "      <td>live</td>\n",
              "    </tr>\n",
              "    <tr>\n",
              "      <th>2</th>\n",
              "      <td>78</td>\n",
              "      <td>female</td>\n",
              "      <td>True</td>\n",
              "      <td>False</td>\n",
              "      <td>True</td>\n",
              "      <td>False</td>\n",
              "      <td>False</td>\n",
              "      <td>True</td>\n",
              "      <td>False</td>\n",
              "      <td>False</td>\n",
              "      <td>False</td>\n",
              "      <td>False</td>\n",
              "      <td>False</td>\n",
              "      <td>0.7</td>\n",
              "      <td>96.000000</td>\n",
              "      <td>32.0</td>\n",
              "      <td>4.0</td>\n",
              "      <td>61.852273</td>\n",
              "      <td>False</td>\n",
              "      <td>live</td>\n",
              "    </tr>\n",
              "    <tr>\n",
              "      <th>3</th>\n",
              "      <td>31</td>\n",
              "      <td>female</td>\n",
              "      <td>False</td>\n",
              "      <td>True</td>\n",
              "      <td>False</td>\n",
              "      <td>False</td>\n",
              "      <td>False</td>\n",
              "      <td>True</td>\n",
              "      <td>False</td>\n",
              "      <td>False</td>\n",
              "      <td>False</td>\n",
              "      <td>False</td>\n",
              "      <td>False</td>\n",
              "      <td>0.7</td>\n",
              "      <td>46.000000</td>\n",
              "      <td>52.0</td>\n",
              "      <td>4.0</td>\n",
              "      <td>80.000000</td>\n",
              "      <td>False</td>\n",
              "      <td>live</td>\n",
              "    </tr>\n",
              "    <tr>\n",
              "      <th>4</th>\n",
              "      <td>34</td>\n",
              "      <td>female</td>\n",
              "      <td>True</td>\n",
              "      <td>False</td>\n",
              "      <td>False</td>\n",
              "      <td>False</td>\n",
              "      <td>False</td>\n",
              "      <td>True</td>\n",
              "      <td>False</td>\n",
              "      <td>False</td>\n",
              "      <td>False</td>\n",
              "      <td>False</td>\n",
              "      <td>False</td>\n",
              "      <td>1.0</td>\n",
              "      <td>105.325397</td>\n",
              "      <td>200.0</td>\n",
              "      <td>4.0</td>\n",
              "      <td>61.852273</td>\n",
              "      <td>False</td>\n",
              "      <td>live</td>\n",
              "    </tr>\n",
              "    <tr>\n",
              "      <th>...</th>\n",
              "      <td>...</td>\n",
              "      <td>...</td>\n",
              "      <td>...</td>\n",
              "      <td>...</td>\n",
              "      <td>...</td>\n",
              "      <td>...</td>\n",
              "      <td>...</td>\n",
              "      <td>...</td>\n",
              "      <td>...</td>\n",
              "      <td>...</td>\n",
              "      <td>...</td>\n",
              "      <td>...</td>\n",
              "      <td>...</td>\n",
              "      <td>...</td>\n",
              "      <td>...</td>\n",
              "      <td>...</td>\n",
              "      <td>...</td>\n",
              "      <td>...</td>\n",
              "      <td>...</td>\n",
              "      <td>...</td>\n",
              "    </tr>\n",
              "    <tr>\n",
              "      <th>150</th>\n",
              "      <td>46</td>\n",
              "      <td>female</td>\n",
              "      <td>True</td>\n",
              "      <td>False</td>\n",
              "      <td>True</td>\n",
              "      <td>True</td>\n",
              "      <td>True</td>\n",
              "      <td>True</td>\n",
              "      <td>False</td>\n",
              "      <td>False</td>\n",
              "      <td>True</td>\n",
              "      <td>True</td>\n",
              "      <td>True</td>\n",
              "      <td>7.6</td>\n",
              "      <td>105.325397</td>\n",
              "      <td>242.0</td>\n",
              "      <td>3.3</td>\n",
              "      <td>50.000000</td>\n",
              "      <td>True</td>\n",
              "      <td>die</td>\n",
              "    </tr>\n",
              "    <tr>\n",
              "      <th>151</th>\n",
              "      <td>44</td>\n",
              "      <td>female</td>\n",
              "      <td>True</td>\n",
              "      <td>False</td>\n",
              "      <td>True</td>\n",
              "      <td>False</td>\n",
              "      <td>False</td>\n",
              "      <td>True</td>\n",
              "      <td>True</td>\n",
              "      <td>False</td>\n",
              "      <td>False</td>\n",
              "      <td>False</td>\n",
              "      <td>False</td>\n",
              "      <td>0.9</td>\n",
              "      <td>126.000000</td>\n",
              "      <td>142.0</td>\n",
              "      <td>4.3</td>\n",
              "      <td>61.852273</td>\n",
              "      <td>True</td>\n",
              "      <td>live</td>\n",
              "    </tr>\n",
              "    <tr>\n",
              "      <th>152</th>\n",
              "      <td>61</td>\n",
              "      <td>female</td>\n",
              "      <td>False</td>\n",
              "      <td>False</td>\n",
              "      <td>True</td>\n",
              "      <td>True</td>\n",
              "      <td>False</td>\n",
              "      <td>False</td>\n",
              "      <td>True</td>\n",
              "      <td>False</td>\n",
              "      <td>True</td>\n",
              "      <td>False</td>\n",
              "      <td>False</td>\n",
              "      <td>0.8</td>\n",
              "      <td>75.000000</td>\n",
              "      <td>20.0</td>\n",
              "      <td>4.1</td>\n",
              "      <td>61.852273</td>\n",
              "      <td>True</td>\n",
              "      <td>live</td>\n",
              "    </tr>\n",
              "    <tr>\n",
              "      <th>153</th>\n",
              "      <td>53</td>\n",
              "      <td>male</td>\n",
              "      <td>False</td>\n",
              "      <td>False</td>\n",
              "      <td>True</td>\n",
              "      <td>False</td>\n",
              "      <td>False</td>\n",
              "      <td>True</td>\n",
              "      <td>False</td>\n",
              "      <td>True</td>\n",
              "      <td>True</td>\n",
              "      <td>False</td>\n",
              "      <td>True</td>\n",
              "      <td>1.5</td>\n",
              "      <td>81.000000</td>\n",
              "      <td>19.0</td>\n",
              "      <td>4.1</td>\n",
              "      <td>48.000000</td>\n",
              "      <td>True</td>\n",
              "      <td>live</td>\n",
              "    </tr>\n",
              "    <tr>\n",
              "      <th>154</th>\n",
              "      <td>43</td>\n",
              "      <td>female</td>\n",
              "      <td>True</td>\n",
              "      <td>False</td>\n",
              "      <td>True</td>\n",
              "      <td>False</td>\n",
              "      <td>False</td>\n",
              "      <td>True</td>\n",
              "      <td>False</td>\n",
              "      <td>True</td>\n",
              "      <td>True</td>\n",
              "      <td>True</td>\n",
              "      <td>False</td>\n",
              "      <td>1.2</td>\n",
              "      <td>100.000000</td>\n",
              "      <td>19.0</td>\n",
              "      <td>3.1</td>\n",
              "      <td>42.000000</td>\n",
              "      <td>True</td>\n",
              "      <td>die</td>\n",
              "    </tr>\n",
              "  </tbody>\n",
              "</table>\n",
              "<p>155 rows × 20 columns</p>\n",
              "</div>"
            ],
            "text/plain": [
              "     age     sex  steroid  antivirals  ...  albumin    protime  histology  class\n",
              "0     30    male    False       False  ...      4.0  61.852273      False   live\n",
              "1     50  female    False       False  ...      3.5  61.852273      False   live\n",
              "2     78  female     True       False  ...      4.0  61.852273      False   live\n",
              "3     31  female    False        True  ...      4.0  80.000000      False   live\n",
              "4     34  female     True       False  ...      4.0  61.852273      False   live\n",
              "..   ...     ...      ...         ...  ...      ...        ...        ...    ...\n",
              "150   46  female     True       False  ...      3.3  50.000000       True    die\n",
              "151   44  female     True       False  ...      4.3  61.852273       True   live\n",
              "152   61  female    False       False  ...      4.1  61.852273       True   live\n",
              "153   53    male    False       False  ...      4.1  48.000000       True   live\n",
              "154   43  female     True       False  ...      3.1  42.000000       True    die\n",
              "\n",
              "[155 rows x 20 columns]"
            ]
          },
          "metadata": {
            "tags": []
          },
          "execution_count": 6
        }
      ]
    },
    {
      "cell_type": "code",
      "metadata": {
        "id": "Ox3ZHCgcYIZp"
      },
      "source": [
        "df = data.copy()\n",
        "# Data has ordinal attributes, The LabelEncoder has been used to make into numerical values  \n",
        "Lb = LabelEncoder()\n",
        "# iterating the encoding all the attributes\n",
        "for features in df.columns:\n",
        "    df[features] = Lb.fit_transform(df[features])"
      ],
      "execution_count": null,
      "outputs": []
    },
    {
      "cell_type": "code",
      "metadata": {
        "id": "fV-pnTHKcQsb"
      },
      "source": [
        "Y = df['class']\n",
        "X = df.loc[:,:'histology']"
      ],
      "execution_count": null,
      "outputs": []
    },
    {
      "cell_type": "markdown",
      "metadata": {
        "id": "UCPs279yZrA8"
      },
      "source": [
        "4.1. Gradient Boosting Classifier"
      ]
    },
    {
      "cell_type": "code",
      "metadata": {
        "colab": {
          "base_uri": "https://localhost:8080/"
        },
        "id": "a9GvYSdPZsJ_",
        "outputId": "5cb11189-038d-4c87-8882-98ae368483c3"
      },
      "source": [
        "cv = RepeatedStratifiedKFold(n_splits=10, n_repeats=3, random_state=1)\n",
        "clf = GradientBoostingClassifier(n_estimators=1000,max_depth=3,learning_rate=0.05)\n",
        "print(\"Accuracy --> \"+str(np.mean(cross_val_score(clf,X,Y,cv=cv))))"
      ],
      "execution_count": null,
      "outputs": [
        {
          "output_type": "stream",
          "text": [
            "Accuracy --> 0.7959722222222222\n"
          ],
          "name": "stdout"
        }
      ]
    },
    {
      "cell_type": "markdown",
      "metadata": {
        "id": "QzhQrq-gY57j"
      },
      "source": [
        "4.2. Random Forest Classifier"
      ]
    },
    {
      "cell_type": "code",
      "metadata": {
        "colab": {
          "base_uri": "https://localhost:8080/"
        },
        "id": "2yyItf2OYx1X",
        "outputId": "464afca9-5039-44ac-8e49-b71954909207"
      },
      "source": [
        "cv = RepeatedStratifiedKFold(n_splits=10, n_repeats=3, random_state=1)\n",
        "clf = RandomForestClassifier(n_estimators=1000,random_state=0) # Best performance at current parameters\n",
        "print(\"Accuracy --> \"+str(np.mean(cross_val_score(clf,X,Y,cv=5))))"
      ],
      "execution_count": null,
      "outputs": [
        {
          "output_type": "stream",
          "text": [
            "Accuracy --> 0.8387096774193548\n"
          ],
          "name": "stdout"
        }
      ]
    },
    {
      "cell_type": "markdown",
      "metadata": {
        "id": "_9P3o-hQY__u"
      },
      "source": [
        "4.3. Decision Tree Classifier"
      ]
    },
    {
      "cell_type": "code",
      "metadata": {
        "colab": {
          "base_uri": "https://localhost:8080/"
        },
        "id": "oXGp0NWKaHH_",
        "outputId": "ba89d521-1d75-4350-c0c0-0a1de7b59d76"
      },
      "source": [
        "cv = RepeatedStratifiedKFold(n_splits=10, n_repeats=3, random_state=1)\n",
        "clf = tree.DecisionTreeClassifier() # Best performance at current parameters\n",
        "print(\"Accuracy --> \"+str(np.mean(cross_val_score(clf,X,Y,cv=cv))))"
      ],
      "execution_count": null,
      "outputs": [
        {
          "output_type": "stream",
          "text": [
            "Accuracy --> 0.7702777777777778\n"
          ],
          "name": "stdout"
        }
      ]
    },
    {
      "cell_type": "markdown",
      "metadata": {
        "id": "9TWDJhTvaLKP"
      },
      "source": [
        "4.4. K Neighbors Classifier"
      ]
    },
    {
      "cell_type": "code",
      "metadata": {
        "colab": {
          "base_uri": "https://localhost:8080/"
        },
        "id": "fILml_8saVwq",
        "outputId": "1abda4fd-2464-4772-c839-a134865e4068"
      },
      "source": [
        "max_i = -1\n",
        "score = -1\n",
        "max_i_ = -1\n",
        "score_ = -1\n",
        "cv = RepeatedStratifiedKFold(n_splits=10, n_repeats=3, random_state=1)\n",
        "for i in range(1,20):\n",
        "    \n",
        "    clf = KNeighborsClassifier(n_neighbors=i)\n",
        "    temp = np.mean(cross_val_score(clf,X,Y,cv=cv))\n",
        "    # temp2 = np.mean(cross_val_score(clf,X,Y,cv=5,scoring='recall'))\n",
        "    # if temp2>score_:\n",
        "    #     score_=temp2\n",
        "    #     max_i_=i\n",
        "    # if temp>score:\n",
        "    #     score = temp\n",
        "    #     max_i = i\n",
        "    print(\"At k=\"+str(i)+\" accuracy-->\"+str(temp))\n",
        "    # print(\"At k=\"+str(i)+\" recall-->\"+str(temp2))\n",
        "print(\"***************************************************\")\n",
        "print(\"Maximum accuracy-->\"+str(score)+\" at k=\"+str(max_i))\n",
        "print(\"Maximum recall-->\"+str(score_)+\" at k=\"+str(max_i_))"
      ],
      "execution_count": null,
      "outputs": [
        {
          "output_type": "stream",
          "text": [
            "At k=1 accuracy-->0.6994444444444444\n",
            "At k=2 accuracy-->0.6437500000000003\n",
            "At k=3 accuracy-->0.7597222222222224\n",
            "At k=4 accuracy-->0.7880555555555556\n",
            "At k=5 accuracy-->0.7966666666666667\n",
            "At k=6 accuracy-->0.8029166666666667\n",
            "At k=7 accuracy-->0.7809722222222223\n",
            "At k=8 accuracy-->0.7959722222222222\n",
            "At k=9 accuracy-->0.800138888888889\n",
            "At k=10 accuracy-->0.7980555555555556\n",
            "At k=11 accuracy-->0.8025000000000001\n",
            "At k=12 accuracy-->0.793888888888889\n",
            "At k=13 accuracy-->0.7894444444444446\n",
            "At k=14 accuracy-->0.7962500000000001\n",
            "At k=15 accuracy-->0.7893055555555557\n",
            "At k=16 accuracy-->0.7872222222222224\n",
            "At k=17 accuracy-->0.7870833333333335\n",
            "At k=18 accuracy-->0.7826388888888889\n",
            "At k=19 accuracy-->0.7830555555555557\n",
            "***************************************************\n",
            "Maximum accuracy-->-1 at k=-1\n",
            "Maximum recall-->-1 at k=-1\n"
          ],
          "name": "stdout"
        }
      ]
    },
    {
      "cell_type": "markdown",
      "metadata": {
        "id": "1I99ux9IagNI"
      },
      "source": [
        "4.5. SVM"
      ]
    },
    {
      "cell_type": "code",
      "metadata": {
        "colab": {
          "base_uri": "https://localhost:8080/"
        },
        "id": "biGMbhnqahht",
        "outputId": "68fae682-cce6-47cc-9d5d-987b8d01ec5a"
      },
      "source": [
        "# training a SVM classifier\n",
        "cv = RepeatedStratifiedKFold(n_splits=10, n_repeats=3, random_state=1)\n",
        "#clf = SVC(kernel = 'linear', C = 1, random_state = 0)  \n",
        "#clf = SVC(kernel = 'poly', C = 1, random_state = 0)  \n",
        "clf = SVC(kernel = 'rbf', C = 10, random_state = 0)\n",
        "print(\"Accuracy --> \"+str(np.mean(cross_val_score(clf,X,Y,cv=cv))))"
      ],
      "execution_count": null,
      "outputs": [
        {
          "output_type": "stream",
          "text": [
            "Accuracy --> 0.7916666666666667\n"
          ],
          "name": "stdout"
        }
      ]
    },
    {
      "cell_type": "markdown",
      "metadata": {
        "id": "xZu_LJ5Ka1mG"
      },
      "source": [
        "4.6. MPL"
      ]
    },
    {
      "cell_type": "code",
      "metadata": {
        "id": "m_OP4vZ7a3zt"
      },
      "source": [
        "min_max_scaler = preprocessing.MinMaxScaler()\n",
        "X_train, X_test, y_train, y_test = train_test_split(X, Y, test_size=0.2, random_state=0)\n",
        "X_scale = min_max_scaler.fit_transform(X)\n",
        "X_train, X_val_and_test, Y_train, Y_val_and_test = train_test_split(X_scale, Y, test_size=0.2)\n",
        "X_val, X_test, Y_val, Y_test = train_test_split(X_val_and_test, Y_val_and_test, test_size=0.2)"
      ],
      "execution_count": null,
      "outputs": []
    },
    {
      "cell_type": "code",
      "metadata": {
        "colab": {
          "base_uri": "https://localhost:8080/"
        },
        "id": "GPw0gd0va9V_",
        "outputId": "41cf1897-ab64-4a59-97ae-d85a23d956f0"
      },
      "source": [
        "model = Sequential([\n",
        "    Dense(32, activation='relu', input_shape=(14,)),\n",
        "    Dense(32, activation='relu'),\n",
        "    Dense(1, activation='sigmoid'),\n",
        "])\n",
        "model.compile(optimizer='sgd',\n",
        "              loss='binary_crossentropy',\n",
        "              metrics=['accuracy'])\n",
        "hist = model.fit(X_train, y_train,\n",
        "          batch_size=32, epochs=100,\n",
        "          validation_data=(X_val, Y_val))"
      ],
      "execution_count": null,
      "outputs": [
        {
          "output_type": "stream",
          "text": [
            "Epoch 1/100\n",
            "4/4 [==============================] - 1s 140ms/step - loss: 0.7500 - accuracy: 0.2218 - val_loss: 0.7354 - val_accuracy: 0.2500\n",
            "Epoch 2/100\n",
            "4/4 [==============================] - 0s 15ms/step - loss: 0.7347 - accuracy: 0.2798 - val_loss: 0.7171 - val_accuracy: 0.3333\n",
            "Epoch 3/100\n",
            "4/4 [==============================] - 0s 14ms/step - loss: 0.7163 - accuracy: 0.2999 - val_loss: 0.7003 - val_accuracy: 0.4583\n",
            "Epoch 4/100\n",
            "4/4 [==============================] - 0s 16ms/step - loss: 0.7032 - accuracy: 0.4580 - val_loss: 0.6848 - val_accuracy: 0.6250\n",
            "Epoch 5/100\n",
            "4/4 [==============================] - 0s 16ms/step - loss: 0.6901 - accuracy: 0.5183 - val_loss: 0.6699 - val_accuracy: 0.7083\n",
            "Epoch 6/100\n",
            "4/4 [==============================] - 0s 16ms/step - loss: 0.6835 - accuracy: 0.6123 - val_loss: 0.6558 - val_accuracy: 0.7500\n",
            "Epoch 7/100\n",
            "4/4 [==============================] - 0s 16ms/step - loss: 0.6620 - accuracy: 0.7614 - val_loss: 0.6427 - val_accuracy: 0.7917\n",
            "Epoch 8/100\n",
            "4/4 [==============================] - 0s 15ms/step - loss: 0.6490 - accuracy: 0.7865 - val_loss: 0.6304 - val_accuracy: 0.8750\n",
            "Epoch 9/100\n",
            "4/4 [==============================] - 0s 15ms/step - loss: 0.6475 - accuracy: 0.7753 - val_loss: 0.6188 - val_accuracy: 0.8750\n",
            "Epoch 10/100\n",
            "4/4 [==============================] - 0s 14ms/step - loss: 0.6368 - accuracy: 0.8037 - val_loss: 0.6077 - val_accuracy: 0.8750\n",
            "Epoch 11/100\n",
            "4/4 [==============================] - 0s 17ms/step - loss: 0.6234 - accuracy: 0.8142 - val_loss: 0.5971 - val_accuracy: 0.9167\n",
            "Epoch 12/100\n",
            "4/4 [==============================] - 0s 15ms/step - loss: 0.6179 - accuracy: 0.8155 - val_loss: 0.5872 - val_accuracy: 0.9167\n",
            "Epoch 13/100\n",
            "4/4 [==============================] - 0s 15ms/step - loss: 0.6047 - accuracy: 0.8301 - val_loss: 0.5780 - val_accuracy: 0.9167\n",
            "Epoch 14/100\n",
            "4/4 [==============================] - 0s 14ms/step - loss: 0.6067 - accuracy: 0.8143 - val_loss: 0.5690 - val_accuracy: 0.9167\n",
            "Epoch 15/100\n",
            "4/4 [==============================] - 0s 14ms/step - loss: 0.6129 - accuracy: 0.7862 - val_loss: 0.5604 - val_accuracy: 0.9167\n",
            "Epoch 16/100\n",
            "4/4 [==============================] - 0s 18ms/step - loss: 0.5818 - accuracy: 0.8373 - val_loss: 0.5522 - val_accuracy: 0.9167\n",
            "Epoch 17/100\n",
            "4/4 [==============================] - 0s 17ms/step - loss: 0.5922 - accuracy: 0.7925 - val_loss: 0.5443 - val_accuracy: 0.9167\n",
            "Epoch 18/100\n",
            "4/4 [==============================] - 0s 15ms/step - loss: 0.5693 - accuracy: 0.8362 - val_loss: 0.5370 - val_accuracy: 0.9167\n",
            "Epoch 19/100\n",
            "4/4 [==============================] - 0s 15ms/step - loss: 0.5805 - accuracy: 0.7987 - val_loss: 0.5299 - val_accuracy: 0.9167\n",
            "Epoch 20/100\n",
            "4/4 [==============================] - 0s 14ms/step - loss: 0.5707 - accuracy: 0.8112 - val_loss: 0.5231 - val_accuracy: 0.9167\n",
            "Epoch 21/100\n",
            "4/4 [==============================] - 0s 17ms/step - loss: 0.5651 - accuracy: 0.8112 - val_loss: 0.5166 - val_accuracy: 0.9167\n",
            "Epoch 22/100\n",
            "4/4 [==============================] - 0s 16ms/step - loss: 0.5534 - accuracy: 0.8206 - val_loss: 0.5104 - val_accuracy: 0.9167\n",
            "Epoch 23/100\n",
            "4/4 [==============================] - 0s 15ms/step - loss: 0.5417 - accuracy: 0.8352 - val_loss: 0.5045 - val_accuracy: 0.9167\n",
            "Epoch 24/100\n",
            "4/4 [==============================] - 0s 18ms/step - loss: 0.5497 - accuracy: 0.8237 - val_loss: 0.4989 - val_accuracy: 0.9167\n",
            "Epoch 25/100\n",
            "4/4 [==============================] - 0s 14ms/step - loss: 0.5465 - accuracy: 0.8164 - val_loss: 0.4934 - val_accuracy: 0.9167\n",
            "Epoch 26/100\n",
            "4/4 [==============================] - 0s 15ms/step - loss: 0.5297 - accuracy: 0.8373 - val_loss: 0.4881 - val_accuracy: 0.9167\n",
            "Epoch 27/100\n",
            "4/4 [==============================] - 0s 14ms/step - loss: 0.5342 - accuracy: 0.8279 - val_loss: 0.4829 - val_accuracy: 0.9167\n",
            "Epoch 28/100\n",
            "4/4 [==============================] - 0s 17ms/step - loss: 0.5304 - accuracy: 0.8216 - val_loss: 0.4781 - val_accuracy: 0.9167\n",
            "Epoch 29/100\n",
            "4/4 [==============================] - 0s 16ms/step - loss: 0.5068 - accuracy: 0.8498 - val_loss: 0.4735 - val_accuracy: 0.9167\n",
            "Epoch 30/100\n",
            "4/4 [==============================] - 0s 17ms/step - loss: 0.5201 - accuracy: 0.8268 - val_loss: 0.4690 - val_accuracy: 0.9167\n",
            "Epoch 31/100\n",
            "4/4 [==============================] - 0s 15ms/step - loss: 0.5569 - accuracy: 0.7800 - val_loss: 0.4646 - val_accuracy: 0.9167\n",
            "Epoch 32/100\n",
            "4/4 [==============================] - 0s 15ms/step - loss: 0.5465 - accuracy: 0.7852 - val_loss: 0.4604 - val_accuracy: 0.9167\n",
            "Epoch 33/100\n",
            "4/4 [==============================] - 0s 16ms/step - loss: 0.5061 - accuracy: 0.8362 - val_loss: 0.4564 - val_accuracy: 0.9167\n",
            "Epoch 34/100\n",
            "4/4 [==============================] - 0s 15ms/step - loss: 0.5076 - accuracy: 0.8310 - val_loss: 0.4526 - val_accuracy: 0.9167\n",
            "Epoch 35/100\n",
            "4/4 [==============================] - 0s 14ms/step - loss: 0.5114 - accuracy: 0.8196 - val_loss: 0.4490 - val_accuracy: 0.9167\n",
            "Epoch 36/100\n",
            "4/4 [==============================] - 0s 15ms/step - loss: 0.5020 - accuracy: 0.8279 - val_loss: 0.4455 - val_accuracy: 0.9167\n",
            "Epoch 37/100\n",
            "4/4 [==============================] - 0s 15ms/step - loss: 0.4761 - accuracy: 0.8529 - val_loss: 0.4423 - val_accuracy: 0.9167\n",
            "Epoch 38/100\n",
            "4/4 [==============================] - 0s 19ms/step - loss: 0.4838 - accuracy: 0.8446 - val_loss: 0.4391 - val_accuracy: 0.9167\n",
            "Epoch 39/100\n",
            "4/4 [==============================] - 0s 17ms/step - loss: 0.4993 - accuracy: 0.8216 - val_loss: 0.4359 - val_accuracy: 0.9167\n",
            "Epoch 40/100\n",
            "4/4 [==============================] - 0s 16ms/step - loss: 0.5091 - accuracy: 0.8133 - val_loss: 0.4329 - val_accuracy: 0.9167\n",
            "Epoch 41/100\n",
            "4/4 [==============================] - 0s 16ms/step - loss: 0.5187 - accuracy: 0.8029 - val_loss: 0.4298 - val_accuracy: 0.9167\n",
            "Epoch 42/100\n",
            "4/4 [==============================] - 0s 15ms/step - loss: 0.4904 - accuracy: 0.8321 - val_loss: 0.4270 - val_accuracy: 0.9167\n",
            "Epoch 43/100\n",
            "4/4 [==============================] - 0s 16ms/step - loss: 0.4827 - accuracy: 0.8341 - val_loss: 0.4243 - val_accuracy: 0.9167\n",
            "Epoch 44/100\n",
            "4/4 [==============================] - 0s 17ms/step - loss: 0.5362 - accuracy: 0.7768 - val_loss: 0.4216 - val_accuracy: 0.9167\n",
            "Epoch 45/100\n",
            "4/4 [==============================] - 0s 15ms/step - loss: 0.4895 - accuracy: 0.8258 - val_loss: 0.4191 - val_accuracy: 0.9167\n",
            "Epoch 46/100\n",
            "4/4 [==============================] - 0s 18ms/step - loss: 0.5036 - accuracy: 0.8081 - val_loss: 0.4166 - val_accuracy: 0.9167\n",
            "Epoch 47/100\n",
            "4/4 [==============================] - 0s 17ms/step - loss: 0.5019 - accuracy: 0.8123 - val_loss: 0.4142 - val_accuracy: 0.9167\n",
            "Epoch 48/100\n",
            "4/4 [==============================] - 0s 16ms/step - loss: 0.4906 - accuracy: 0.8216 - val_loss: 0.4119 - val_accuracy: 0.9167\n",
            "Epoch 49/100\n",
            "4/4 [==============================] - 0s 19ms/step - loss: 0.4879 - accuracy: 0.8154 - val_loss: 0.4097 - val_accuracy: 0.9167\n",
            "Epoch 50/100\n",
            "4/4 [==============================] - 0s 20ms/step - loss: 0.5179 - accuracy: 0.7893 - val_loss: 0.4077 - val_accuracy: 0.9167\n",
            "Epoch 51/100\n",
            "4/4 [==============================] - 0s 17ms/step - loss: 0.4935 - accuracy: 0.8164 - val_loss: 0.4057 - val_accuracy: 0.9167\n",
            "Epoch 52/100\n",
            "4/4 [==============================] - 0s 16ms/step - loss: 0.4844 - accuracy: 0.8123 - val_loss: 0.4037 - val_accuracy: 0.9167\n",
            "Epoch 53/100\n",
            "4/4 [==============================] - 0s 15ms/step - loss: 0.4958 - accuracy: 0.8102 - val_loss: 0.4018 - val_accuracy: 0.9167\n",
            "Epoch 54/100\n",
            "4/4 [==============================] - 0s 17ms/step - loss: 0.5348 - accuracy: 0.7696 - val_loss: 0.3999 - val_accuracy: 0.9167\n",
            "Epoch 55/100\n",
            "4/4 [==============================] - 0s 18ms/step - loss: 0.4703 - accuracy: 0.8268 - val_loss: 0.3983 - val_accuracy: 0.9167\n",
            "Epoch 56/100\n",
            "4/4 [==============================] - 0s 16ms/step - loss: 0.4964 - accuracy: 0.8060 - val_loss: 0.3966 - val_accuracy: 0.9167\n",
            "Epoch 57/100\n",
            "4/4 [==============================] - 0s 18ms/step - loss: 0.5028 - accuracy: 0.8018 - val_loss: 0.3950 - val_accuracy: 0.9167\n",
            "Epoch 58/100\n",
            "4/4 [==============================] - 0s 18ms/step - loss: 0.4750 - accuracy: 0.8196 - val_loss: 0.3935 - val_accuracy: 0.9167\n",
            "Epoch 59/100\n",
            "4/4 [==============================] - 0s 19ms/step - loss: 0.4829 - accuracy: 0.8175 - val_loss: 0.3920 - val_accuracy: 0.9167\n",
            "Epoch 60/100\n",
            "4/4 [==============================] - 0s 16ms/step - loss: 0.5073 - accuracy: 0.7935 - val_loss: 0.3905 - val_accuracy: 0.9167\n",
            "Epoch 61/100\n",
            "4/4 [==============================] - 0s 15ms/step - loss: 0.4633 - accuracy: 0.8321 - val_loss: 0.3892 - val_accuracy: 0.9167\n",
            "Epoch 62/100\n",
            "4/4 [==============================] - 0s 17ms/step - loss: 0.4719 - accuracy: 0.8227 - val_loss: 0.3879 - val_accuracy: 0.9167\n",
            "Epoch 63/100\n",
            "4/4 [==============================] - 0s 18ms/step - loss: 0.4788 - accuracy: 0.8102 - val_loss: 0.3867 - val_accuracy: 0.9167\n",
            "Epoch 64/100\n",
            "4/4 [==============================] - 0s 14ms/step - loss: 0.4952 - accuracy: 0.8039 - val_loss: 0.3855 - val_accuracy: 0.9167\n",
            "Epoch 65/100\n",
            "4/4 [==============================] - 0s 16ms/step - loss: 0.4905 - accuracy: 0.8039 - val_loss: 0.3843 - val_accuracy: 0.9167\n",
            "Epoch 66/100\n",
            "4/4 [==============================] - 0s 15ms/step - loss: 0.4725 - accuracy: 0.8185 - val_loss: 0.3833 - val_accuracy: 0.9167\n",
            "Epoch 67/100\n",
            "4/4 [==============================] - 0s 17ms/step - loss: 0.4791 - accuracy: 0.8185 - val_loss: 0.3822 - val_accuracy: 0.9167\n",
            "Epoch 68/100\n",
            "4/4 [==============================] - 0s 17ms/step - loss: 0.4905 - accuracy: 0.8060 - val_loss: 0.3812 - val_accuracy: 0.9167\n",
            "Epoch 69/100\n",
            "4/4 [==============================] - 0s 17ms/step - loss: 0.4973 - accuracy: 0.8029 - val_loss: 0.3801 - val_accuracy: 0.9167\n",
            "Epoch 70/100\n",
            "4/4 [==============================] - 0s 16ms/step - loss: 0.4671 - accuracy: 0.8237 - val_loss: 0.3792 - val_accuracy: 0.9167\n",
            "Epoch 71/100\n",
            "4/4 [==============================] - 0s 17ms/step - loss: 0.4819 - accuracy: 0.8112 - val_loss: 0.3783 - val_accuracy: 0.9167\n",
            "Epoch 72/100\n",
            "4/4 [==============================] - 0s 16ms/step - loss: 0.4493 - accuracy: 0.8404 - val_loss: 0.3774 - val_accuracy: 0.9167\n",
            "Epoch 73/100\n",
            "4/4 [==============================] - 0s 17ms/step - loss: 0.4688 - accuracy: 0.8216 - val_loss: 0.3767 - val_accuracy: 0.9167\n",
            "Epoch 74/100\n",
            "4/4 [==============================] - 0s 19ms/step - loss: 0.4857 - accuracy: 0.8060 - val_loss: 0.3759 - val_accuracy: 0.9167\n",
            "Epoch 75/100\n",
            "4/4 [==============================] - 0s 16ms/step - loss: 0.4524 - accuracy: 0.8352 - val_loss: 0.3752 - val_accuracy: 0.9167\n",
            "Epoch 76/100\n",
            "4/4 [==============================] - 0s 15ms/step - loss: 0.5418 - accuracy: 0.7633 - val_loss: 0.3744 - val_accuracy: 0.9167\n",
            "Epoch 77/100\n",
            "4/4 [==============================] - 0s 17ms/step - loss: 0.4737 - accuracy: 0.8143 - val_loss: 0.3737 - val_accuracy: 0.9167\n",
            "Epoch 78/100\n",
            "4/4 [==============================] - 0s 16ms/step - loss: 0.4915 - accuracy: 0.8060 - val_loss: 0.3730 - val_accuracy: 0.9167\n",
            "Epoch 79/100\n",
            "4/4 [==============================] - 0s 15ms/step - loss: 0.5210 - accuracy: 0.7821 - val_loss: 0.3722 - val_accuracy: 0.9167\n",
            "Epoch 80/100\n",
            "4/4 [==============================] - 0s 16ms/step - loss: 0.4873 - accuracy: 0.8039 - val_loss: 0.3715 - val_accuracy: 0.9167\n",
            "Epoch 81/100\n",
            "4/4 [==============================] - 0s 17ms/step - loss: 0.4485 - accuracy: 0.8300 - val_loss: 0.3711 - val_accuracy: 0.9167\n",
            "Epoch 82/100\n",
            "4/4 [==============================] - 0s 15ms/step - loss: 0.4608 - accuracy: 0.8258 - val_loss: 0.3706 - val_accuracy: 0.9167\n",
            "Epoch 83/100\n",
            "4/4 [==============================] - 0s 15ms/step - loss: 0.4669 - accuracy: 0.8196 - val_loss: 0.3701 - val_accuracy: 0.9167\n",
            "Epoch 84/100\n",
            "4/4 [==============================] - 0s 17ms/step - loss: 0.4327 - accuracy: 0.8404 - val_loss: 0.3697 - val_accuracy: 0.9167\n",
            "Epoch 85/100\n",
            "4/4 [==============================] - 0s 20ms/step - loss: 0.4908 - accuracy: 0.8008 - val_loss: 0.3691 - val_accuracy: 0.9167\n",
            "Epoch 86/100\n",
            "4/4 [==============================] - 0s 17ms/step - loss: 0.4404 - accuracy: 0.8435 - val_loss: 0.3686 - val_accuracy: 0.9167\n",
            "Epoch 87/100\n",
            "4/4 [==============================] - 0s 16ms/step - loss: 0.4881 - accuracy: 0.8018 - val_loss: 0.3681 - val_accuracy: 0.9167\n",
            "Epoch 88/100\n",
            "4/4 [==============================] - 0s 17ms/step - loss: 0.4824 - accuracy: 0.8112 - val_loss: 0.3677 - val_accuracy: 0.9167\n",
            "Epoch 89/100\n",
            "4/4 [==============================] - 0s 15ms/step - loss: 0.5153 - accuracy: 0.7883 - val_loss: 0.3672 - val_accuracy: 0.9167\n",
            "Epoch 90/100\n",
            "4/4 [==============================] - 0s 16ms/step - loss: 0.5019 - accuracy: 0.7935 - val_loss: 0.3667 - val_accuracy: 0.9167\n",
            "Epoch 91/100\n",
            "4/4 [==============================] - 0s 17ms/step - loss: 0.4754 - accuracy: 0.8071 - val_loss: 0.3663 - val_accuracy: 0.9167\n",
            "Epoch 92/100\n",
            "4/4 [==============================] - 0s 15ms/step - loss: 0.4415 - accuracy: 0.8383 - val_loss: 0.3659 - val_accuracy: 0.9167\n",
            "Epoch 93/100\n",
            "4/4 [==============================] - 0s 18ms/step - loss: 0.4329 - accuracy: 0.8466 - val_loss: 0.3657 - val_accuracy: 0.9167\n",
            "Epoch 94/100\n",
            "4/4 [==============================] - 0s 15ms/step - loss: 0.4666 - accuracy: 0.8175 - val_loss: 0.3654 - val_accuracy: 0.9167\n",
            "Epoch 95/100\n",
            "4/4 [==============================] - 0s 17ms/step - loss: 0.4592 - accuracy: 0.8237 - val_loss: 0.3651 - val_accuracy: 0.9167\n",
            "Epoch 96/100\n",
            "4/4 [==============================] - 0s 16ms/step - loss: 0.4527 - accuracy: 0.8310 - val_loss: 0.3648 - val_accuracy: 0.9167\n",
            "Epoch 97/100\n",
            "4/4 [==============================] - 0s 20ms/step - loss: 0.4782 - accuracy: 0.8102 - val_loss: 0.3645 - val_accuracy: 0.9167\n",
            "Epoch 98/100\n",
            "4/4 [==============================] - 0s 15ms/step - loss: 0.4485 - accuracy: 0.8279 - val_loss: 0.3642 - val_accuracy: 0.9167\n",
            "Epoch 99/100\n",
            "4/4 [==============================] - 0s 18ms/step - loss: 0.4353 - accuracy: 0.8362 - val_loss: 0.3640 - val_accuracy: 0.9167\n",
            "Epoch 100/100\n",
            "4/4 [==============================] - 0s 16ms/step - loss: 0.4425 - accuracy: 0.8362 - val_loss: 0.3638 - val_accuracy: 0.9167\n"
          ],
          "name": "stdout"
        }
      ]
    }
  ]
}