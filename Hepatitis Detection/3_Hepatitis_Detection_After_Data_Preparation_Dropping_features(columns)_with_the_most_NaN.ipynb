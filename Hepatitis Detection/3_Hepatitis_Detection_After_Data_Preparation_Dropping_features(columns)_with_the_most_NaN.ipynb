{
  "nbformat": 4,
  "nbformat_minor": 0,
  "metadata": {
    "colab": {
      "provenance": [],
      "collapsed_sections": []
    },
    "kernelspec": {
      "name": "python3",
      "display_name": "Python 3"
    },
    "language_info": {
      "name": "python"
    }
  },
  "cells": [
    {
      "cell_type": "code",
      "metadata": {
        "id": "phehyt43IrLE"
      },
      "source": [
        "import numpy as np\n",
        "import pandas as pd\n",
        "import matplotlib.pyplot as plt\n",
        "from sklearn.ensemble import GradientBoostingClassifier\n",
        "from sklearn.neighbors import KNeighborsClassifier\n",
        "from sklearn.svm import SVC\n",
        "from sklearn.ensemble import RandomForestClassifier\n",
        "from sklearn import tree\n",
        "from sklearn.model_selection import cross_val_score\n",
        "import seaborn as sns\n",
        "# For manupulating the data\n",
        "from sklearn.model_selection import train_test_split\n",
        "from sklearn.model_selection import KFold\n",
        "from sklearn.preprocessing import LabelEncoder\n",
        "# Models under the Sklearn\n",
        "from sklearn.neighbors import KNeighborsClassifier\n",
        "from sklearn.cluster import KMeans\n",
        "# to calculate the performances of the models \n",
        "from sklearn.metrics import confusion_matrix\n",
        "from sklearn.metrics import classification_report\n",
        "from sklearn.metrics import accuracy_score\n",
        "from sklearn.model_selection import cross_val_score # score evaluation\n",
        "from sklearn.model_selection import cross_val_predict # prediction\n",
        "from keras.models import Sequential\n",
        "from keras.layers import Dense\n",
        "from sklearn.neural_network import MLPClassifier\n",
        "from sklearn import preprocessing\n",
        "from sklearn.datasets import load_iris\n",
        "from sklearn.linear_model import LogisticRegression\n",
        "from sklearn.model_selection import RepeatedStratifiedKFold"
      ],
      "execution_count": null,
      "outputs": []
    },
    {
      "cell_type": "markdown",
      "source": [
        "**Dataset**\n",
        "\n",
        "This dataset contains occurrences of hepatitis in people. \n",
        "The dataset has been downloaded from  “hepatitis_csv dataset.” https://www.openml.org/d/55, and the code was programmed in Google Colab. "
      ],
      "metadata": {
        "id": "5H0rIqP-K5OH"
      }
    },
    {
      "cell_type": "markdown",
      "metadata": {
        "id": "hzba9_8oZ7H6"
      },
      "source": [
        "**3. Data Preparation: Dropping the features(columns) with the most NaN**"
      ]
    },
    {
      "cell_type": "code",
      "metadata": {
        "id": "zGlar1xcaGJV"
      },
      "source": [
        "data = pd.read_csv(\"/content/hepatitis_csv.csv\")\n",
        "#data.head(20)"
      ],
      "execution_count": null,
      "outputs": []
    },
    {
      "cell_type": "code",
      "metadata": {
        "colab": {
          "base_uri": "https://localhost:8080/"
        },
        "id": "8g5hwcci3HgL",
        "outputId": "50b3da0d-9039-40f0-a20d-ca2d6da9f0d3"
      },
      "source": [
        "print(data.isnull().sum())"
      ],
      "execution_count": null,
      "outputs": [
        {
          "output_type": "stream",
          "text": [
            "age                 0\n",
            "sex                 0\n",
            "steroid             1\n",
            "antivirals          0\n",
            "fatigue             1\n",
            "malaise             1\n",
            "anorexia            1\n",
            "liver_big          10\n",
            "liver_firm         11\n",
            "spleen_palpable     5\n",
            "spiders             5\n",
            "ascites             5\n",
            "varices             5\n",
            "bilirubin           6\n",
            "alk_phosphate      29\n",
            "sgot                4\n",
            "albumin            16\n",
            "protime            67\n",
            "histology           0\n",
            "class               0\n",
            "dtype: int64\n"
          ],
          "name": "stdout"
        }
      ]
    },
    {
      "cell_type": "code",
      "metadata": {
        "id": "HnJYNuQAasMn"
      },
      "source": [
        "for fe in data:\n",
        "  print(fe)\n",
        "  print(set(list(data[fe])))"
      ],
      "execution_count": null,
      "outputs": []
    },
    {
      "cell_type": "code",
      "metadata": {
        "id": "RccaOWlsarWo"
      },
      "source": [
        "df = data.copy()\n",
        "# Data has ordinal attributes, The LabelEncoder has been used to make into numerical values  \n",
        "Lb = LabelEncoder()\n",
        "# iterating the encoding all the attributes\n",
        "for features in df.columns:\n",
        "    df[features] = Lb.fit_transform(df[features])"
      ],
      "execution_count": null,
      "outputs": []
    },
    {
      "cell_type": "code",
      "metadata": {
        "id": "uJcezl-QbrqE"
      },
      "source": [
        "Y = df['class']\n",
        "X = df.loc[:,:'histology']\n",
        "X = X.drop(columns=['alk_phosphate','liver_big','liver_firm','albumin','protime'],axis=1)"
      ],
      "execution_count": null,
      "outputs": []
    },
    {
      "cell_type": "markdown",
      "metadata": {
        "id": "EA6k4xGTimzu"
      },
      "source": [
        "3.1. Gradient Boosting *Classifier*"
      ]
    },
    {
      "cell_type": "code",
      "metadata": {
        "colab": {
          "base_uri": "https://localhost:8080/"
        },
        "id": "277nX7fbin96",
        "outputId": "f6e38503-6c69-4947-8dcf-b881b85a809c"
      },
      "source": [
        "cv = RepeatedStratifiedKFold(n_splits=10, n_repeats=3, random_state=1)\n",
        "clf = GradientBoostingClassifier(n_estimators=1000,max_depth=3,learning_rate=0.05)\n",
        "print(\"Accuracy --> \"+str(np.mean(cross_val_score(clf,X,Y,cv=cv))))"
      ],
      "execution_count": null,
      "outputs": [
        {
          "output_type": "stream",
          "text": [
            "Accuracy --> 0.7938888888888889\n"
          ],
          "name": "stdout"
        }
      ]
    },
    {
      "cell_type": "markdown",
      "metadata": {
        "id": "zFArTukGjNfv"
      },
      "source": [
        "3.2. Random Forest Classifier"
      ]
    },
    {
      "cell_type": "code",
      "metadata": {
        "colab": {
          "base_uri": "https://localhost:8080/"
        },
        "id": "W1tvJgh6jOwN",
        "outputId": "ed63cc64-c4ad-42d8-85da-aea8fbbf73d6"
      },
      "source": [
        "cv = RepeatedStratifiedKFold(n_splits=10, n_repeats=3, random_state=1)\n",
        "clf = RandomForestClassifier(n_estimators=1000,random_state=0) # Best performance at current parameters\n",
        "print(\"Accuracy --> \"+str(np.mean(cross_val_score(clf,X,Y,cv=cv))))"
      ],
      "execution_count": null,
      "outputs": [
        {
          "output_type": "stream",
          "text": [
            "Accuracy --> 0.79625\n"
          ],
          "name": "stdout"
        }
      ]
    },
    {
      "cell_type": "markdown",
      "metadata": {
        "id": "oFo5GWT5jfF_"
      },
      "source": [
        "3.3. Decision Tree Classifier"
      ]
    },
    {
      "cell_type": "code",
      "metadata": {
        "colab": {
          "base_uri": "https://localhost:8080/"
        },
        "id": "R2xKfSfljl2G",
        "outputId": "8b70dd74-e7d9-4f2c-8893-23e87b69af01"
      },
      "source": [
        "cv = RepeatedStratifiedKFold(n_splits=10, n_repeats=3, random_state=1)\n",
        "clf = tree.DecisionTreeClassifier() # Best performance at current parameters\n",
        "print(\"Accuracy --> \"+str(np.mean(cross_val_score(clf,X,Y,cv=cv))))"
      ],
      "execution_count": null,
      "outputs": [
        {
          "output_type": "stream",
          "text": [
            "Accuracy --> 0.7555555555555558\n"
          ],
          "name": "stdout"
        }
      ]
    },
    {
      "cell_type": "markdown",
      "metadata": {
        "id": "dvVjDqAQj71F"
      },
      "source": [
        "3.4. K Neighbors Classifier"
      ]
    },
    {
      "cell_type": "code",
      "metadata": {
        "colab": {
          "base_uri": "https://localhost:8080/"
        },
        "id": "B_Nq0wVGj9Yd",
        "outputId": "8dff2331-9d06-4220-c0f4-b0013d6ecaa6"
      },
      "source": [
        "max_i = -1\n",
        "score = -1\n",
        "max_i_ = -1\n",
        "score_ = -1\n",
        "cv = RepeatedStratifiedKFold(n_splits=10, n_repeats=3, random_state=1)\n",
        "for i in range(1,20):\n",
        "    \n",
        "    clf = KNeighborsClassifier(n_neighbors=i)\n",
        "    temp = np.mean(cross_val_score(clf,X,Y,cv=cv))\n",
        "    # temp2 = np.mean(cross_val_score(clf,X,Y,cv=5,scoring='recall'))\n",
        "    # if temp2>score_:\n",
        "    #     score_=temp2\n",
        "    #     max_i_=i\n",
        "    # if temp>score:\n",
        "    #     score = temp\n",
        "    #     max_i = i\n",
        "    print(\"At k=\"+str(i)+\" accuracy-->\"+str(temp))\n",
        "    # print(\"At k=\"+str(i)+\" recall-->\"+str(temp2))\n",
        "print(\"***************************************************\")\n",
        "print(\"Maximum accuracy-->\"+str(score)+\" at k=\"+str(max_i))\n",
        "print(\"Maximum recall-->\"+str(score_)+\" at k=\"+str(max_i_))"
      ],
      "execution_count": null,
      "outputs": [
        {
          "output_type": "stream",
          "text": [
            "At k=1 accuracy-->0.6994444444444444\n",
            "At k=2 accuracy-->0.6437500000000003\n",
            "At k=3 accuracy-->0.7597222222222224\n",
            "At k=4 accuracy-->0.7880555555555556\n",
            "At k=5 accuracy-->0.7966666666666667\n",
            "At k=6 accuracy-->0.8029166666666667\n",
            "At k=7 accuracy-->0.7809722222222223\n",
            "At k=8 accuracy-->0.7959722222222222\n",
            "At k=9 accuracy-->0.800138888888889\n",
            "At k=10 accuracy-->0.7980555555555556\n",
            "At k=11 accuracy-->0.8025000000000001\n",
            "At k=12 accuracy-->0.793888888888889\n",
            "At k=13 accuracy-->0.7894444444444446\n",
            "At k=14 accuracy-->0.7962500000000001\n",
            "At k=15 accuracy-->0.7893055555555557\n",
            "At k=16 accuracy-->0.7872222222222224\n",
            "At k=17 accuracy-->0.7870833333333335\n",
            "At k=18 accuracy-->0.7826388888888889\n",
            "At k=19 accuracy-->0.7830555555555557\n",
            "***************************************************\n",
            "Maximum accuracy-->-1 at k=-1\n",
            "Maximum recall-->-1 at k=-1\n"
          ],
          "name": "stdout"
        }
      ]
    },
    {
      "cell_type": "markdown",
      "metadata": {
        "id": "b7KzMxkwkaeE"
      },
      "source": [
        "3.5. SVM"
      ]
    },
    {
      "cell_type": "code",
      "metadata": {
        "colab": {
          "base_uri": "https://localhost:8080/"
        },
        "id": "8WFxlt43kcR7",
        "outputId": "042a38fc-e9e3-4822-bc0c-a3a0683aab71"
      },
      "source": [
        "# training a SVM classifier\n",
        "cv = RepeatedStratifiedKFold(n_splits=10, n_repeats=3, random_state=1)\n",
        "#clf = SVC(kernel = 'linear', C = 1, random_state = 0)  \n",
        "#clf = SVC(kernel = 'poly', C = 1, random_state = 0)  \n",
        "clf = SVC(kernel = 'rbf', C = 10, random_state = 0)\n",
        "print(\"Accuracy --> \"+str(np.mean(cross_val_score(clf,X,Y,cv=cv))))"
      ],
      "execution_count": null,
      "outputs": [
        {
          "output_type": "stream",
          "text": [
            "Accuracy --> 0.7916666666666667\n"
          ],
          "name": "stdout"
        }
      ]
    },
    {
      "cell_type": "markdown",
      "metadata": {
        "id": "prR2yteLk2Ti"
      },
      "source": [
        "3.6. MLP"
      ]
    },
    {
      "cell_type": "code",
      "metadata": {
        "id": "AVY0peggk32r"
      },
      "source": [
        "min_max_scaler = preprocessing.MinMaxScaler()\n",
        "X_train, X_test, y_train, y_test = train_test_split(X, Y, test_size=0.2, random_state=0)\n",
        "X_scale = min_max_scaler.fit_transform(X)\n",
        "X_train, X_val_and_test, Y_train, Y_val_and_test = train_test_split(X_scale, Y, test_size=0.2)\n",
        "X_val, X_test, Y_val, Y_test = train_test_split(X_val_and_test, Y_val_and_test, test_size=0.2)"
      ],
      "execution_count": null,
      "outputs": []
    },
    {
      "cell_type": "code",
      "metadata": {
        "colab": {
          "base_uri": "https://localhost:8080/"
        },
        "id": "TUGJ39UXk965",
        "outputId": "3f146aa1-a14b-4eee-b897-d2b902ceb80c"
      },
      "source": [
        "model = Sequential([\n",
        "    Dense(32, activation='relu', input_shape=(14,)),\n",
        "    Dense(32, activation='relu'),\n",
        "    Dense(1, activation='sigmoid'),\n",
        "])\n",
        "model.compile(optimizer='sgd',\n",
        "              loss='binary_crossentropy',\n",
        "              metrics=['accuracy'])\n",
        "hist = model.fit(X_train, y_train,\n",
        "          batch_size=32, epochs=100,\n",
        "          validation_data=(X_val, Y_val))"
      ],
      "execution_count": null,
      "outputs": [
        {
          "output_type": "stream",
          "text": [
            "Epoch 1/100\n",
            "4/4 [==============================] - 1s 79ms/step - loss: 0.7107 - accuracy: 0.3557 - val_loss: 0.7137 - val_accuracy: 0.2500\n",
            "Epoch 2/100\n",
            "4/4 [==============================] - 0s 12ms/step - loss: 0.6986 - accuracy: 0.4708 - val_loss: 0.7025 - val_accuracy: 0.4583\n",
            "Epoch 3/100\n",
            "4/4 [==============================] - 0s 14ms/step - loss: 0.6873 - accuracy: 0.5380 - val_loss: 0.6921 - val_accuracy: 0.5833\n",
            "Epoch 4/100\n",
            "4/4 [==============================] - 0s 14ms/step - loss: 0.6779 - accuracy: 0.6490 - val_loss: 0.6822 - val_accuracy: 0.6250\n",
            "Epoch 5/100\n",
            "4/4 [==============================] - 0s 15ms/step - loss: 0.6663 - accuracy: 0.7310 - val_loss: 0.6727 - val_accuracy: 0.7917\n",
            "Epoch 6/100\n",
            "4/4 [==============================] - 0s 14ms/step - loss: 0.6566 - accuracy: 0.7954 - val_loss: 0.6638 - val_accuracy: 0.8333\n",
            "Epoch 7/100\n",
            "4/4 [==============================] - 0s 15ms/step - loss: 0.6492 - accuracy: 0.8131 - val_loss: 0.6553 - val_accuracy: 0.8333\n",
            "Epoch 8/100\n",
            "4/4 [==============================] - 0s 14ms/step - loss: 0.6386 - accuracy: 0.8268 - val_loss: 0.6473 - val_accuracy: 0.8333\n",
            "Epoch 9/100\n",
            "4/4 [==============================] - 0s 13ms/step - loss: 0.6357 - accuracy: 0.8112 - val_loss: 0.6395 - val_accuracy: 0.8333\n",
            "Epoch 10/100\n",
            "4/4 [==============================] - 0s 13ms/step - loss: 0.6258 - accuracy: 0.8112 - val_loss: 0.6321 - val_accuracy: 0.8333\n",
            "Epoch 11/100\n",
            "4/4 [==============================] - 0s 12ms/step - loss: 0.6196 - accuracy: 0.8081 - val_loss: 0.6252 - val_accuracy: 0.8333\n",
            "Epoch 12/100\n",
            "4/4 [==============================] - 0s 14ms/step - loss: 0.6090 - accuracy: 0.8175 - val_loss: 0.6186 - val_accuracy: 0.8333\n",
            "Epoch 13/100\n",
            "4/4 [==============================] - 0s 15ms/step - loss: 0.5951 - accuracy: 0.8373 - val_loss: 0.6123 - val_accuracy: 0.8333\n",
            "Epoch 14/100\n",
            "4/4 [==============================] - 0s 16ms/step - loss: 0.5911 - accuracy: 0.8268 - val_loss: 0.6063 - val_accuracy: 0.8333\n",
            "Epoch 15/100\n",
            "4/4 [==============================] - 0s 15ms/step - loss: 0.5833 - accuracy: 0.8331 - val_loss: 0.6006 - val_accuracy: 0.8333\n",
            "Epoch 16/100\n",
            "4/4 [==============================] - 0s 16ms/step - loss: 0.5861 - accuracy: 0.8133 - val_loss: 0.5952 - val_accuracy: 0.8333\n",
            "Epoch 17/100\n",
            "4/4 [==============================] - 0s 12ms/step - loss: 0.5716 - accuracy: 0.8310 - val_loss: 0.5900 - val_accuracy: 0.8333\n",
            "Epoch 18/100\n",
            "4/4 [==============================] - 0s 12ms/step - loss: 0.5762 - accuracy: 0.8102 - val_loss: 0.5851 - val_accuracy: 0.8333\n",
            "Epoch 19/100\n",
            "4/4 [==============================] - 0s 14ms/step - loss: 0.5647 - accuracy: 0.8258 - val_loss: 0.5804 - val_accuracy: 0.8333\n",
            "Epoch 20/100\n",
            "4/4 [==============================] - 0s 13ms/step - loss: 0.5607 - accuracy: 0.8237 - val_loss: 0.5760 - val_accuracy: 0.8333\n",
            "Epoch 21/100\n",
            "4/4 [==============================] - 0s 16ms/step - loss: 0.5557 - accuracy: 0.8258 - val_loss: 0.5719 - val_accuracy: 0.8333\n",
            "Epoch 22/100\n",
            "4/4 [==============================] - 0s 12ms/step - loss: 0.5498 - accuracy: 0.8206 - val_loss: 0.5679 - val_accuracy: 0.8333\n",
            "Epoch 23/100\n",
            "4/4 [==============================] - 0s 12ms/step - loss: 0.5385 - accuracy: 0.8362 - val_loss: 0.5640 - val_accuracy: 0.8333\n",
            "Epoch 24/100\n",
            "4/4 [==============================] - 0s 14ms/step - loss: 0.5657 - accuracy: 0.7737 - val_loss: 0.5603 - val_accuracy: 0.8333\n",
            "Epoch 25/100\n",
            "4/4 [==============================] - 0s 14ms/step - loss: 0.5533 - accuracy: 0.7956 - val_loss: 0.5568 - val_accuracy: 0.8333\n",
            "Epoch 26/100\n",
            "4/4 [==============================] - 0s 16ms/step - loss: 0.5376 - accuracy: 0.8123 - val_loss: 0.5534 - val_accuracy: 0.8333\n",
            "Epoch 27/100\n",
            "4/4 [==============================] - 0s 16ms/step - loss: 0.5399 - accuracy: 0.8060 - val_loss: 0.5503 - val_accuracy: 0.8333\n",
            "Epoch 28/100\n",
            "4/4 [==============================] - 0s 15ms/step - loss: 0.5226 - accuracy: 0.8268 - val_loss: 0.5473 - val_accuracy: 0.8333\n",
            "Epoch 29/100\n",
            "4/4 [==============================] - 0s 14ms/step - loss: 0.5489 - accuracy: 0.7779 - val_loss: 0.5445 - val_accuracy: 0.8333\n",
            "Epoch 30/100\n",
            "4/4 [==============================] - 0s 15ms/step - loss: 0.5553 - accuracy: 0.7654 - val_loss: 0.5418 - val_accuracy: 0.8333\n",
            "Epoch 31/100\n",
            "4/4 [==============================] - 0s 13ms/step - loss: 0.5380 - accuracy: 0.7883 - val_loss: 0.5392 - val_accuracy: 0.8333\n",
            "Epoch 32/100\n",
            "4/4 [==============================] - 0s 12ms/step - loss: 0.5196 - accuracy: 0.8143 - val_loss: 0.5368 - val_accuracy: 0.8333\n",
            "Epoch 33/100\n",
            "4/4 [==============================] - 0s 15ms/step - loss: 0.5109 - accuracy: 0.8164 - val_loss: 0.5345 - val_accuracy: 0.8333\n",
            "Epoch 34/100\n",
            "4/4 [==============================] - 0s 14ms/step - loss: 0.5055 - accuracy: 0.8352 - val_loss: 0.5325 - val_accuracy: 0.8333\n",
            "Epoch 35/100\n",
            "4/4 [==============================] - 0s 17ms/step - loss: 0.5403 - accuracy: 0.7831 - val_loss: 0.5304 - val_accuracy: 0.8333\n",
            "Epoch 36/100\n",
            "4/4 [==============================] - 0s 15ms/step - loss: 0.4877 - accuracy: 0.8352 - val_loss: 0.5285 - val_accuracy: 0.8333\n",
            "Epoch 37/100\n",
            "4/4 [==============================] - 0s 15ms/step - loss: 0.4986 - accuracy: 0.8300 - val_loss: 0.5267 - val_accuracy: 0.8333\n",
            "Epoch 38/100\n",
            "4/4 [==============================] - 0s 15ms/step - loss: 0.5007 - accuracy: 0.8164 - val_loss: 0.5249 - val_accuracy: 0.8333\n",
            "Epoch 39/100\n",
            "4/4 [==============================] - 0s 16ms/step - loss: 0.4943 - accuracy: 0.8279 - val_loss: 0.5233 - val_accuracy: 0.8333\n",
            "Epoch 40/100\n",
            "4/4 [==============================] - 0s 15ms/step - loss: 0.4990 - accuracy: 0.8206 - val_loss: 0.5218 - val_accuracy: 0.8333\n",
            "Epoch 41/100\n",
            "4/4 [==============================] - 0s 17ms/step - loss: 0.5057 - accuracy: 0.8039 - val_loss: 0.5204 - val_accuracy: 0.8333\n",
            "Epoch 42/100\n",
            "4/4 [==============================] - 0s 14ms/step - loss: 0.4749 - accuracy: 0.8362 - val_loss: 0.5191 - val_accuracy: 0.8333\n",
            "Epoch 43/100\n",
            "4/4 [==============================] - 0s 13ms/step - loss: 0.4689 - accuracy: 0.8383 - val_loss: 0.5178 - val_accuracy: 0.8333\n",
            "Epoch 44/100\n",
            "4/4 [==============================] - 0s 15ms/step - loss: 0.4850 - accuracy: 0.8206 - val_loss: 0.5167 - val_accuracy: 0.8333\n",
            "Epoch 45/100\n",
            "4/4 [==============================] - 0s 13ms/step - loss: 0.5152 - accuracy: 0.7852 - val_loss: 0.5155 - val_accuracy: 0.8333\n",
            "Epoch 46/100\n",
            "4/4 [==============================] - 0s 13ms/step - loss: 0.4752 - accuracy: 0.8331 - val_loss: 0.5145 - val_accuracy: 0.8333\n",
            "Epoch 47/100\n",
            "4/4 [==============================] - 0s 13ms/step - loss: 0.4890 - accuracy: 0.8081 - val_loss: 0.5135 - val_accuracy: 0.8333\n",
            "Epoch 48/100\n",
            "4/4 [==============================] - 0s 13ms/step - loss: 0.4740 - accuracy: 0.8310 - val_loss: 0.5126 - val_accuracy: 0.8333\n",
            "Epoch 49/100\n",
            "4/4 [==============================] - 0s 17ms/step - loss: 0.4613 - accuracy: 0.8393 - val_loss: 0.5118 - val_accuracy: 0.8333\n",
            "Epoch 50/100\n",
            "4/4 [==============================] - 0s 16ms/step - loss: 0.4769 - accuracy: 0.8237 - val_loss: 0.5110 - val_accuracy: 0.8333\n",
            "Epoch 51/100\n",
            "4/4 [==============================] - 0s 13ms/step - loss: 0.4599 - accuracy: 0.8352 - val_loss: 0.5103 - val_accuracy: 0.8333\n",
            "Epoch 52/100\n",
            "4/4 [==============================] - 0s 17ms/step - loss: 0.4937 - accuracy: 0.8050 - val_loss: 0.5096 - val_accuracy: 0.8333\n",
            "Epoch 53/100\n",
            "4/4 [==============================] - 0s 12ms/step - loss: 0.4637 - accuracy: 0.8300 - val_loss: 0.5090 - val_accuracy: 0.8333\n",
            "Epoch 54/100\n",
            "4/4 [==============================] - 0s 15ms/step - loss: 0.4728 - accuracy: 0.8185 - val_loss: 0.5084 - val_accuracy: 0.8333\n",
            "Epoch 55/100\n",
            "4/4 [==============================] - 0s 15ms/step - loss: 0.4910 - accuracy: 0.8060 - val_loss: 0.5079 - val_accuracy: 0.8333\n",
            "Epoch 56/100\n",
            "4/4 [==============================] - 0s 15ms/step - loss: 0.4886 - accuracy: 0.8050 - val_loss: 0.5074 - val_accuracy: 0.8333\n",
            "Epoch 57/100\n",
            "4/4 [==============================] - 0s 17ms/step - loss: 0.4440 - accuracy: 0.8477 - val_loss: 0.5070 - val_accuracy: 0.8333\n",
            "Epoch 58/100\n",
            "4/4 [==============================] - 0s 14ms/step - loss: 0.4835 - accuracy: 0.7998 - val_loss: 0.5065 - val_accuracy: 0.8333\n",
            "Epoch 59/100\n",
            "4/4 [==============================] - 0s 13ms/step - loss: 0.4527 - accuracy: 0.8383 - val_loss: 0.5062 - val_accuracy: 0.8333\n",
            "Epoch 60/100\n",
            "4/4 [==============================] - 0s 16ms/step - loss: 0.4841 - accuracy: 0.7998 - val_loss: 0.5058 - val_accuracy: 0.8333\n",
            "Epoch 61/100\n",
            "4/4 [==============================] - 0s 15ms/step - loss: 0.4914 - accuracy: 0.8050 - val_loss: 0.5055 - val_accuracy: 0.8333\n",
            "Epoch 62/100\n",
            "4/4 [==============================] - 0s 16ms/step - loss: 0.4904 - accuracy: 0.7977 - val_loss: 0.5052 - val_accuracy: 0.8333\n",
            "Epoch 63/100\n",
            "4/4 [==============================] - 0s 16ms/step - loss: 0.4656 - accuracy: 0.8206 - val_loss: 0.5049 - val_accuracy: 0.8333\n",
            "Epoch 64/100\n",
            "4/4 [==============================] - 0s 16ms/step - loss: 0.4797 - accuracy: 0.8133 - val_loss: 0.5047 - val_accuracy: 0.8333\n",
            "Epoch 65/100\n",
            "4/4 [==============================] - 0s 15ms/step - loss: 0.4805 - accuracy: 0.7977 - val_loss: 0.5045 - val_accuracy: 0.8333\n",
            "Epoch 66/100\n",
            "4/4 [==============================] - 0s 16ms/step - loss: 0.5071 - accuracy: 0.7810 - val_loss: 0.5043 - val_accuracy: 0.8333\n",
            "Epoch 67/100\n",
            "4/4 [==============================] - 0s 14ms/step - loss: 0.4778 - accuracy: 0.8050 - val_loss: 0.5042 - val_accuracy: 0.8333\n",
            "Epoch 68/100\n",
            "4/4 [==============================] - 0s 14ms/step - loss: 0.4473 - accuracy: 0.8352 - val_loss: 0.5040 - val_accuracy: 0.8333\n",
            "Epoch 69/100\n",
            "4/4 [==============================] - 0s 17ms/step - loss: 0.4502 - accuracy: 0.8352 - val_loss: 0.5039 - val_accuracy: 0.8333\n",
            "Epoch 70/100\n",
            "4/4 [==============================] - 0s 14ms/step - loss: 0.4487 - accuracy: 0.8310 - val_loss: 0.5038 - val_accuracy: 0.8333\n",
            "Epoch 71/100\n",
            "4/4 [==============================] - 0s 15ms/step - loss: 0.5054 - accuracy: 0.7800 - val_loss: 0.5037 - val_accuracy: 0.8333\n",
            "Epoch 72/100\n",
            "4/4 [==============================] - 0s 15ms/step - loss: 0.4723 - accuracy: 0.8091 - val_loss: 0.5037 - val_accuracy: 0.8333\n",
            "Epoch 73/100\n",
            "4/4 [==============================] - 0s 14ms/step - loss: 0.5406 - accuracy: 0.7518 - val_loss: 0.5036 - val_accuracy: 0.8333\n",
            "Epoch 74/100\n",
            "4/4 [==============================] - 0s 15ms/step - loss: 0.4401 - accuracy: 0.8414 - val_loss: 0.5036 - val_accuracy: 0.8333\n",
            "Epoch 75/100\n",
            "4/4 [==============================] - 0s 13ms/step - loss: 0.4975 - accuracy: 0.7966 - val_loss: 0.5035 - val_accuracy: 0.8333\n",
            "Epoch 76/100\n",
            "4/4 [==============================] - 0s 15ms/step - loss: 0.4482 - accuracy: 0.8289 - val_loss: 0.5035 - val_accuracy: 0.8333\n",
            "Epoch 77/100\n",
            "4/4 [==============================] - 0s 16ms/step - loss: 0.4430 - accuracy: 0.8310 - val_loss: 0.5035 - val_accuracy: 0.8333\n",
            "Epoch 78/100\n",
            "4/4 [==============================] - 0s 14ms/step - loss: 0.4686 - accuracy: 0.8123 - val_loss: 0.5035 - val_accuracy: 0.8333\n",
            "Epoch 79/100\n",
            "4/4 [==============================] - 0s 15ms/step - loss: 0.4573 - accuracy: 0.8248 - val_loss: 0.5036 - val_accuracy: 0.8333\n",
            "Epoch 80/100\n",
            "4/4 [==============================] - 0s 18ms/step - loss: 0.4760 - accuracy: 0.8060 - val_loss: 0.5036 - val_accuracy: 0.8333\n",
            "Epoch 81/100\n",
            "4/4 [==============================] - 0s 14ms/step - loss: 0.4322 - accuracy: 0.8425 - val_loss: 0.5037 - val_accuracy: 0.8333\n",
            "Epoch 82/100\n",
            "4/4 [==============================] - 0s 14ms/step - loss: 0.4271 - accuracy: 0.8446 - val_loss: 0.5037 - val_accuracy: 0.8333\n",
            "Epoch 83/100\n",
            "4/4 [==============================] - 0s 14ms/step - loss: 0.4710 - accuracy: 0.8091 - val_loss: 0.5038 - val_accuracy: 0.8333\n",
            "Epoch 84/100\n",
            "4/4 [==============================] - 0s 15ms/step - loss: 0.4740 - accuracy: 0.8091 - val_loss: 0.5038 - val_accuracy: 0.8333\n",
            "Epoch 85/100\n",
            "4/4 [==============================] - 0s 17ms/step - loss: 0.4959 - accuracy: 0.7873 - val_loss: 0.5039 - val_accuracy: 0.8333\n",
            "Epoch 86/100\n",
            "4/4 [==============================] - 0s 17ms/step - loss: 0.4756 - accuracy: 0.7987 - val_loss: 0.5039 - val_accuracy: 0.8333\n",
            "Epoch 87/100\n",
            "4/4 [==============================] - 0s 16ms/step - loss: 0.4822 - accuracy: 0.8050 - val_loss: 0.5040 - val_accuracy: 0.8333\n",
            "Epoch 88/100\n",
            "4/4 [==============================] - 0s 15ms/step - loss: 0.5041 - accuracy: 0.7831 - val_loss: 0.5041 - val_accuracy: 0.8333\n",
            "Epoch 89/100\n",
            "4/4 [==============================] - 0s 17ms/step - loss: 0.4530 - accuracy: 0.8216 - val_loss: 0.5041 - val_accuracy: 0.8333\n",
            "Epoch 90/100\n",
            "4/4 [==============================] - 0s 14ms/step - loss: 0.4689 - accuracy: 0.8081 - val_loss: 0.5042 - val_accuracy: 0.8333\n",
            "Epoch 91/100\n",
            "4/4 [==============================] - 0s 12ms/step - loss: 0.4715 - accuracy: 0.8143 - val_loss: 0.5043 - val_accuracy: 0.8333\n",
            "Epoch 92/100\n",
            "4/4 [==============================] - 0s 13ms/step - loss: 0.4382 - accuracy: 0.8321 - val_loss: 0.5044 - val_accuracy: 0.8333\n",
            "Epoch 93/100\n",
            "4/4 [==============================] - 0s 16ms/step - loss: 0.4313 - accuracy: 0.8362 - val_loss: 0.5045 - val_accuracy: 0.8333\n",
            "Epoch 94/100\n",
            "4/4 [==============================] - 0s 16ms/step - loss: 0.4614 - accuracy: 0.8175 - val_loss: 0.5046 - val_accuracy: 0.8333\n",
            "Epoch 95/100\n",
            "4/4 [==============================] - 0s 15ms/step - loss: 0.4731 - accuracy: 0.8091 - val_loss: 0.5047 - val_accuracy: 0.8333\n",
            "Epoch 96/100\n",
            "4/4 [==============================] - 0s 13ms/step - loss: 0.4360 - accuracy: 0.8258 - val_loss: 0.5048 - val_accuracy: 0.8333\n",
            "Epoch 97/100\n",
            "4/4 [==============================] - 0s 14ms/step - loss: 0.4468 - accuracy: 0.8300 - val_loss: 0.5049 - val_accuracy: 0.8333\n",
            "Epoch 98/100\n",
            "4/4 [==============================] - 0s 14ms/step - loss: 0.4867 - accuracy: 0.7966 - val_loss: 0.5050 - val_accuracy: 0.8333\n",
            "Epoch 99/100\n",
            "4/4 [==============================] - 0s 16ms/step - loss: 0.4649 - accuracy: 0.8112 - val_loss: 0.5051 - val_accuracy: 0.8333\n",
            "Epoch 100/100\n",
            "4/4 [==============================] - 0s 15ms/step - loss: 0.4989 - accuracy: 0.7852 - val_loss: 0.5052 - val_accuracy: 0.8333\n"
          ],
          "name": "stdout"
        }
      ]
    }
  ]
}